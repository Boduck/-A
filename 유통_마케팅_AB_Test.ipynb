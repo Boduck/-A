{
  "nbformat": 4,
  "nbformat_minor": 0,
  "metadata": {
    "colab": {
      "provenance": [],
      "toc_visible": true,
      "include_colab_link": true
    },
    "kernelspec": {
      "name": "python3",
      "display_name": "Python 3"
    },
    "language_info": {
      "name": "python"
    }
  },
  "cells": [
    {
      "cell_type": "markdown",
      "metadata": {
        "id": "view-in-github",
        "colab_type": "text"
      },
      "source": [
        "<a href=\"https://colab.research.google.com/github/Boduck/Data-Analysis/blob/main/%EC%9C%A0%ED%86%B5_%EB%A7%88%EC%BC%80%ED%8C%85_AB_Test.ipynb\" target=\"_parent\"><img src=\"https://colab.research.google.com/assets/colab-badge.svg\" alt=\"Open In Colab\"/></a>"
      ]
    },
    {
      "cell_type": "markdown",
      "source": [
        "# **마케팅 A/B Test**\n",
        "---\n",
        "> **목차(Context)**\n",
        "\n",
        "* 프로젝트 Summary\n",
        "* 문제상황 Introduction"
      ],
      "metadata": {
        "id": "jR4fX00ayV2m"
      }
    },
    {
      "cell_type": "markdown",
      "source": [
        "## **프로젝트 Summary**\n",
        "---\n",
        "\n",
        "> **프로젝트명**\n",
        "\n",
        "```\n",
        "▶ 마케팅 A/B Test\n",
        "```  \n",
        "\n",
        "> **프로젝트유형**\n",
        "\n",
        "```\n",
        "▶ 마케팅 프로모션에 대한 A/B Test\n",
        "\n",
        "```\n",
        "\n",
        "> **예상 결과물**\n",
        "\n",
        "```\n",
        "▶ A/B 테스트 설계 및 실행 계획 문서\n",
        "▶ 테스트 그룹별 성과 분석 보고서\n",
        "▶ 통계적 방법을 사용한 테스트 결과의 유의성 검증 결과\n",
        "▶ 최종적으로 효과적인 마케팅 전략을 위한 추천 방안 및 제안서\n",
        "```"
      ],
      "metadata": {
        "id": "QInrP8L7zZDF"
      }
    },
    {
      "cell_type": "markdown",
      "source": [
        "\n",
        "## **문제상황 Introduction**\n",
        "---\n",
        "> **시나리오**\n",
        "\n",
        "```\n",
        "기업 XYZ는 새로운 마케팅 프로모션 전략을 도입하려고 계획하고 있다. 이전의 전략은 기대했던 효과를 보이지 못하여, 개선된 전략이 실제로 더 나은 성과를 가져올 수\n",
        "있는지를 검증하기 위한 방법이 필요하게 되었다. 마케팅팀은 \"마케팅 A/B Test\" 프로젝트를 시작하여, 서로 다른 마케팅 전략의 효과를 직접 비교하기로 결정한다.\n",
        "하나는 기존의 전략이며, 다른 하나는 새롭게 제안된 전략들이다. 고객들은 무작위로 두 그룹으로 나누어질 것이며, 각 그룹은 서로 다른 마케팅 전략을 경험하게 될 것이다.\n",
        "프로젝트 진행 과정에서, 데이터 분석 팀은 테스트 그룹별로 발생하는 성과를 주기적으로 모니터링하며, 데이터를 수집한다. 테스트가 완료된 후, 분석팀은 성과 데이터를 깊이\n",
        "분석하여 어느 전략이 더 나은 성과를 보였는지, 그 차이가 통계적으로 유의미한지를 평가한다. 프로젝트 종료 후, 마케팅팀은 데이터 분석 팀의 결과를 기반으로 더 효과적인\n",
        "마케팅 전략을 선정하게 된다. 분석 결과와 추천 방안을 바탕으로, 기업 XYZ는 마케팅 효율성을 크게 향상시키게 된다.\n",
        "```  \n",
        "\n",
        "> **문제정의**\n",
        "\n",
        "```\n",
        "▶ 마케팅 전략별 효과에 대한 검증 수단의 부재\n",
        "```  \n",
        "\n",
        "> **기대효과**\n",
        "\n",
        "```\n",
        "▶ 데이터에 기반한 마케팅 전략별 효과 시각화\n",
        "▶ 통계적 검증에 따른 마케팅 효과 신뢰도 상승\n",
        "```\n",
        "\n",
        "> **해결방안**\n",
        "\n",
        "```\n",
        "▶ 세부 구분에 따른 매출액 시각화\n",
        "▶ t-검정으로 매출액 상승 판단 지표 마련\n",
        "```\n",
        "\n",
        "> **성과측정**  \n",
        "\n",
        "```\n",
        "▶ 고객 매출액 데이터 테스트 전후 대시보드 모니터링\n",
        "▶ 시행 전후 데이터 t-검정 결과 산출\n",
        "```"
      ],
      "metadata": {
        "id": "xIS7Uhbz1CIc"
      }
    },
    {
      "cell_type": "markdown",
      "source": [
        "> **데이터 살펴보기**\n",
        "\n",
        "|Column|Description|\n",
        "|:---|:---|\n",
        "|MarketID|고유 식별자|\n",
        "|MarketSize|판매량에 따른 시장 영역의 크기|\n",
        "|LocationID|매장 위치의 고유 식별자|\n",
        "|AgeOfStore|매장의 연령(설립된 지 몇 년인지)|\n",
        "|Promotion|테스트된 세 가지 프로모션 중 하나|\n",
        "|SalesInThousands|특정 LocationID, Promotion, 그리고 주에 대한 매출액 (천 단위)|\n",
        "\n",
        "\n"
      ],
      "metadata": {
        "id": "RSuBl-Gz1TU8"
      }
    },
    {
      "cell_type": "code",
      "source": [
        "# ▶ Warnings 제거\n",
        "import warnings\n",
        "warnings.filterwarnings('ignore')\n",
        "\n",
        "# ▶ Google drive mount or 폴더 클릭 후 구글드라이브 연결\n",
        "from google.colab import drive\n",
        "drive.mount('/content/drive')\n",
        "\n",
        "# ▶ 경로 설정 (※강의자료가 위치에 있는 경로 확인)\n",
        "import os\n",
        "os.chdir(\"/content/drive/MyDrive/\")\n",
        "os.getcwd()"
      ],
      "metadata": {
        "colab": {
          "base_uri": "https://localhost:8080/",
          "height": 53
        },
        "id": "A1F_aGxXyjaH",
        "outputId": "21145d57-2cfa-4135-aea5-a2ee04f60157"
      },
      "execution_count": null,
      "outputs": [
        {
          "output_type": "stream",
          "name": "stdout",
          "text": [
            "Mounted at /content/drive\n"
          ]
        },
        {
          "output_type": "execute_result",
          "data": {
            "text/plain": [
              "'/content/drive/MyDrive'"
            ],
            "application/vnd.google.colaboratory.intrinsic+json": {
              "type": "string"
            }
          },
          "metadata": {},
          "execution_count": 1
        }
      ]
    },
    {
      "cell_type": "code",
      "source": [
        "import pandas as pd\n",
        "import numpy as np\n",
        "import matplotlib.pyplot as plt\n",
        "import seaborn as sns"
      ],
      "metadata": {
        "id": "JsfAeIYV0BMn"
      },
      "execution_count": null,
      "outputs": []
    },
    {
      "cell_type": "code",
      "source": [
        "# ▶ Data read\n",
        "df = pd.read_csv('P_PJT05_DATA.csv')\n",
        "df.head()"
      ],
      "metadata": {
        "colab": {
          "base_uri": "https://localhost:8080/",
          "height": 206
        },
        "id": "QoMmLoBq7oBn",
        "outputId": "0586a2ab-db50-43bb-dfbc-04e3b639b8b2"
      },
      "execution_count": null,
      "outputs": [
        {
          "output_type": "execute_result",
          "data": {
            "text/plain": [
              "   MarketID MarketSize  LocationID  AgeOfStore  Promotion  week  \\\n",
              "0         1     Medium           1           4          3     1   \n",
              "1         1     Medium           1           4          3     2   \n",
              "2         1     Medium           1           4          3     3   \n",
              "3         1     Medium           1           4          3     4   \n",
              "4         1     Medium           2           5          2     1   \n",
              "\n",
              "   SalesInThousands  \n",
              "0             33.73  \n",
              "1             35.67  \n",
              "2             29.03  \n",
              "3             39.25  \n",
              "4             27.81  "
            ],
            "text/html": [
              "\n",
              "  <div id=\"df-6b977b83-6d21-4f9b-8318-f844d413b068\" class=\"colab-df-container\">\n",
              "    <div>\n",
              "<style scoped>\n",
              "    .dataframe tbody tr th:only-of-type {\n",
              "        vertical-align: middle;\n",
              "    }\n",
              "\n",
              "    .dataframe tbody tr th {\n",
              "        vertical-align: top;\n",
              "    }\n",
              "\n",
              "    .dataframe thead th {\n",
              "        text-align: right;\n",
              "    }\n",
              "</style>\n",
              "<table border=\"1\" class=\"dataframe\">\n",
              "  <thead>\n",
              "    <tr style=\"text-align: right;\">\n",
              "      <th></th>\n",
              "      <th>MarketID</th>\n",
              "      <th>MarketSize</th>\n",
              "      <th>LocationID</th>\n",
              "      <th>AgeOfStore</th>\n",
              "      <th>Promotion</th>\n",
              "      <th>week</th>\n",
              "      <th>SalesInThousands</th>\n",
              "    </tr>\n",
              "  </thead>\n",
              "  <tbody>\n",
              "    <tr>\n",
              "      <th>0</th>\n",
              "      <td>1</td>\n",
              "      <td>Medium</td>\n",
              "      <td>1</td>\n",
              "      <td>4</td>\n",
              "      <td>3</td>\n",
              "      <td>1</td>\n",
              "      <td>33.73</td>\n",
              "    </tr>\n",
              "    <tr>\n",
              "      <th>1</th>\n",
              "      <td>1</td>\n",
              "      <td>Medium</td>\n",
              "      <td>1</td>\n",
              "      <td>4</td>\n",
              "      <td>3</td>\n",
              "      <td>2</td>\n",
              "      <td>35.67</td>\n",
              "    </tr>\n",
              "    <tr>\n",
              "      <th>2</th>\n",
              "      <td>1</td>\n",
              "      <td>Medium</td>\n",
              "      <td>1</td>\n",
              "      <td>4</td>\n",
              "      <td>3</td>\n",
              "      <td>3</td>\n",
              "      <td>29.03</td>\n",
              "    </tr>\n",
              "    <tr>\n",
              "      <th>3</th>\n",
              "      <td>1</td>\n",
              "      <td>Medium</td>\n",
              "      <td>1</td>\n",
              "      <td>4</td>\n",
              "      <td>3</td>\n",
              "      <td>4</td>\n",
              "      <td>39.25</td>\n",
              "    </tr>\n",
              "    <tr>\n",
              "      <th>4</th>\n",
              "      <td>1</td>\n",
              "      <td>Medium</td>\n",
              "      <td>2</td>\n",
              "      <td>5</td>\n",
              "      <td>2</td>\n",
              "      <td>1</td>\n",
              "      <td>27.81</td>\n",
              "    </tr>\n",
              "  </tbody>\n",
              "</table>\n",
              "</div>\n",
              "    <div class=\"colab-df-buttons\">\n",
              "\n",
              "  <div class=\"colab-df-container\">\n",
              "    <button class=\"colab-df-convert\" onclick=\"convertToInteractive('df-6b977b83-6d21-4f9b-8318-f844d413b068')\"\n",
              "            title=\"Convert this dataframe to an interactive table.\"\n",
              "            style=\"display:none;\">\n",
              "\n",
              "  <svg xmlns=\"http://www.w3.org/2000/svg\" height=\"24px\" viewBox=\"0 -960 960 960\">\n",
              "    <path d=\"M120-120v-720h720v720H120Zm60-500h600v-160H180v160Zm220 220h160v-160H400v160Zm0 220h160v-160H400v160ZM180-400h160v-160H180v160Zm440 0h160v-160H620v160ZM180-180h160v-160H180v160Zm440 0h160v-160H620v160Z\"/>\n",
              "  </svg>\n",
              "    </button>\n",
              "\n",
              "  <style>\n",
              "    .colab-df-container {\n",
              "      display:flex;\n",
              "      gap: 12px;\n",
              "    }\n",
              "\n",
              "    .colab-df-convert {\n",
              "      background-color: #E8F0FE;\n",
              "      border: none;\n",
              "      border-radius: 50%;\n",
              "      cursor: pointer;\n",
              "      display: none;\n",
              "      fill: #1967D2;\n",
              "      height: 32px;\n",
              "      padding: 0 0 0 0;\n",
              "      width: 32px;\n",
              "    }\n",
              "\n",
              "    .colab-df-convert:hover {\n",
              "      background-color: #E2EBFA;\n",
              "      box-shadow: 0px 1px 2px rgba(60, 64, 67, 0.3), 0px 1px 3px 1px rgba(60, 64, 67, 0.15);\n",
              "      fill: #174EA6;\n",
              "    }\n",
              "\n",
              "    .colab-df-buttons div {\n",
              "      margin-bottom: 4px;\n",
              "    }\n",
              "\n",
              "    [theme=dark] .colab-df-convert {\n",
              "      background-color: #3B4455;\n",
              "      fill: #D2E3FC;\n",
              "    }\n",
              "\n",
              "    [theme=dark] .colab-df-convert:hover {\n",
              "      background-color: #434B5C;\n",
              "      box-shadow: 0px 1px 3px 1px rgba(0, 0, 0, 0.15);\n",
              "      filter: drop-shadow(0px 1px 2px rgba(0, 0, 0, 0.3));\n",
              "      fill: #FFFFFF;\n",
              "    }\n",
              "  </style>\n",
              "\n",
              "    <script>\n",
              "      const buttonEl =\n",
              "        document.querySelector('#df-6b977b83-6d21-4f9b-8318-f844d413b068 button.colab-df-convert');\n",
              "      buttonEl.style.display =\n",
              "        google.colab.kernel.accessAllowed ? 'block' : 'none';\n",
              "\n",
              "      async function convertToInteractive(key) {\n",
              "        const element = document.querySelector('#df-6b977b83-6d21-4f9b-8318-f844d413b068');\n",
              "        const dataTable =\n",
              "          await google.colab.kernel.invokeFunction('convertToInteractive',\n",
              "                                                    [key], {});\n",
              "        if (!dataTable) return;\n",
              "\n",
              "        const docLinkHtml = 'Like what you see? Visit the ' +\n",
              "          '<a target=\"_blank\" href=https://colab.research.google.com/notebooks/data_table.ipynb>data table notebook</a>'\n",
              "          + ' to learn more about interactive tables.';\n",
              "        element.innerHTML = '';\n",
              "        dataTable['output_type'] = 'display_data';\n",
              "        await google.colab.output.renderOutput(dataTable, element);\n",
              "        const docLink = document.createElement('div');\n",
              "        docLink.innerHTML = docLinkHtml;\n",
              "        element.appendChild(docLink);\n",
              "      }\n",
              "    </script>\n",
              "  </div>\n",
              "\n",
              "\n",
              "<div id=\"df-c7a14762-0f7f-42e8-9122-552e5ceb0aea\">\n",
              "  <button class=\"colab-df-quickchart\" onclick=\"quickchart('df-c7a14762-0f7f-42e8-9122-552e5ceb0aea')\"\n",
              "            title=\"Suggest charts\"\n",
              "            style=\"display:none;\">\n",
              "\n",
              "<svg xmlns=\"http://www.w3.org/2000/svg\" height=\"24px\"viewBox=\"0 0 24 24\"\n",
              "     width=\"24px\">\n",
              "    <g>\n",
              "        <path d=\"M19 3H5c-1.1 0-2 .9-2 2v14c0 1.1.9 2 2 2h14c1.1 0 2-.9 2-2V5c0-1.1-.9-2-2-2zM9 17H7v-7h2v7zm4 0h-2V7h2v10zm4 0h-2v-4h2v4z\"/>\n",
              "    </g>\n",
              "</svg>\n",
              "  </button>\n",
              "\n",
              "<style>\n",
              "  .colab-df-quickchart {\n",
              "      --bg-color: #E8F0FE;\n",
              "      --fill-color: #1967D2;\n",
              "      --hover-bg-color: #E2EBFA;\n",
              "      --hover-fill-color: #174EA6;\n",
              "      --disabled-fill-color: #AAA;\n",
              "      --disabled-bg-color: #DDD;\n",
              "  }\n",
              "\n",
              "  [theme=dark] .colab-df-quickchart {\n",
              "      --bg-color: #3B4455;\n",
              "      --fill-color: #D2E3FC;\n",
              "      --hover-bg-color: #434B5C;\n",
              "      --hover-fill-color: #FFFFFF;\n",
              "      --disabled-bg-color: #3B4455;\n",
              "      --disabled-fill-color: #666;\n",
              "  }\n",
              "\n",
              "  .colab-df-quickchart {\n",
              "    background-color: var(--bg-color);\n",
              "    border: none;\n",
              "    border-radius: 50%;\n",
              "    cursor: pointer;\n",
              "    display: none;\n",
              "    fill: var(--fill-color);\n",
              "    height: 32px;\n",
              "    padding: 0;\n",
              "    width: 32px;\n",
              "  }\n",
              "\n",
              "  .colab-df-quickchart:hover {\n",
              "    background-color: var(--hover-bg-color);\n",
              "    box-shadow: 0 1px 2px rgba(60, 64, 67, 0.3), 0 1px 3px 1px rgba(60, 64, 67, 0.15);\n",
              "    fill: var(--button-hover-fill-color);\n",
              "  }\n",
              "\n",
              "  .colab-df-quickchart-complete:disabled,\n",
              "  .colab-df-quickchart-complete:disabled:hover {\n",
              "    background-color: var(--disabled-bg-color);\n",
              "    fill: var(--disabled-fill-color);\n",
              "    box-shadow: none;\n",
              "  }\n",
              "\n",
              "  .colab-df-spinner {\n",
              "    border: 2px solid var(--fill-color);\n",
              "    border-color: transparent;\n",
              "    border-bottom-color: var(--fill-color);\n",
              "    animation:\n",
              "      spin 1s steps(1) infinite;\n",
              "  }\n",
              "\n",
              "  @keyframes spin {\n",
              "    0% {\n",
              "      border-color: transparent;\n",
              "      border-bottom-color: var(--fill-color);\n",
              "      border-left-color: var(--fill-color);\n",
              "    }\n",
              "    20% {\n",
              "      border-color: transparent;\n",
              "      border-left-color: var(--fill-color);\n",
              "      border-top-color: var(--fill-color);\n",
              "    }\n",
              "    30% {\n",
              "      border-color: transparent;\n",
              "      border-left-color: var(--fill-color);\n",
              "      border-top-color: var(--fill-color);\n",
              "      border-right-color: var(--fill-color);\n",
              "    }\n",
              "    40% {\n",
              "      border-color: transparent;\n",
              "      border-right-color: var(--fill-color);\n",
              "      border-top-color: var(--fill-color);\n",
              "    }\n",
              "    60% {\n",
              "      border-color: transparent;\n",
              "      border-right-color: var(--fill-color);\n",
              "    }\n",
              "    80% {\n",
              "      border-color: transparent;\n",
              "      border-right-color: var(--fill-color);\n",
              "      border-bottom-color: var(--fill-color);\n",
              "    }\n",
              "    90% {\n",
              "      border-color: transparent;\n",
              "      border-bottom-color: var(--fill-color);\n",
              "    }\n",
              "  }\n",
              "</style>\n",
              "\n",
              "  <script>\n",
              "    async function quickchart(key) {\n",
              "      const quickchartButtonEl =\n",
              "        document.querySelector('#' + key + ' button');\n",
              "      quickchartButtonEl.disabled = true;  // To prevent multiple clicks.\n",
              "      quickchartButtonEl.classList.add('colab-df-spinner');\n",
              "      try {\n",
              "        const charts = await google.colab.kernel.invokeFunction(\n",
              "            'suggestCharts', [key], {});\n",
              "      } catch (error) {\n",
              "        console.error('Error during call to suggestCharts:', error);\n",
              "      }\n",
              "      quickchartButtonEl.classList.remove('colab-df-spinner');\n",
              "      quickchartButtonEl.classList.add('colab-df-quickchart-complete');\n",
              "    }\n",
              "    (() => {\n",
              "      let quickchartButtonEl =\n",
              "        document.querySelector('#df-c7a14762-0f7f-42e8-9122-552e5ceb0aea button');\n",
              "      quickchartButtonEl.style.display =\n",
              "        google.colab.kernel.accessAllowed ? 'block' : 'none';\n",
              "    })();\n",
              "  </script>\n",
              "</div>\n",
              "\n",
              "    </div>\n",
              "  </div>\n"
            ],
            "application/vnd.google.colaboratory.intrinsic+json": {
              "type": "dataframe",
              "variable_name": "df",
              "summary": "{\n  \"name\": \"df\",\n  \"rows\": 548,\n  \"fields\": [\n    {\n      \"column\": \"MarketID\",\n      \"properties\": {\n        \"dtype\": \"number\",\n        \"std\": 2,\n        \"min\": 1,\n        \"max\": 10,\n        \"num_unique_values\": 10,\n        \"samples\": [\n          9,\n          2,\n          6\n        ],\n        \"semantic_type\": \"\",\n        \"description\": \"\"\n      }\n    },\n    {\n      \"column\": \"MarketSize\",\n      \"properties\": {\n        \"dtype\": \"category\",\n        \"num_unique_values\": 3,\n        \"samples\": [\n          \"Medium\",\n          \"Small\",\n          \"Large\"\n        ],\n        \"semantic_type\": \"\",\n        \"description\": \"\"\n      }\n    },\n    {\n      \"column\": \"LocationID\",\n      \"properties\": {\n        \"dtype\": \"number\",\n        \"std\": 287,\n        \"min\": 1,\n        \"max\": 920,\n        \"num_unique_values\": 137,\n        \"samples\": [\n          711,\n          710,\n          13\n        ],\n        \"semantic_type\": \"\",\n        \"description\": \"\"\n      }\n    },\n    {\n      \"column\": \"AgeOfStore\",\n      \"properties\": {\n        \"dtype\": \"number\",\n        \"std\": 6,\n        \"min\": 1,\n        \"max\": 28,\n        \"num_unique_values\": 25,\n        \"samples\": [\n          8,\n          9,\n          4\n        ],\n        \"semantic_type\": \"\",\n        \"description\": \"\"\n      }\n    },\n    {\n      \"column\": \"Promotion\",\n      \"properties\": {\n        \"dtype\": \"number\",\n        \"std\": 0,\n        \"min\": 1,\n        \"max\": 3,\n        \"num_unique_values\": 3,\n        \"samples\": [\n          3,\n          2,\n          1\n        ],\n        \"semantic_type\": \"\",\n        \"description\": \"\"\n      }\n    },\n    {\n      \"column\": \"week\",\n      \"properties\": {\n        \"dtype\": \"number\",\n        \"std\": 1,\n        \"min\": 1,\n        \"max\": 4,\n        \"num_unique_values\": 4,\n        \"samples\": [\n          2,\n          4,\n          1\n        ],\n        \"semantic_type\": \"\",\n        \"description\": \"\"\n      }\n    },\n    {\n      \"column\": \"SalesInThousands\",\n      \"properties\": {\n        \"dtype\": \"number\",\n        \"std\": 16.755215821664237,\n        \"min\": 17.34,\n        \"max\": 99.65,\n        \"num_unique_values\": 517,\n        \"samples\": [\n          36.39,\n          51.52,\n          52.64\n        ],\n        \"semantic_type\": \"\",\n        \"description\": \"\"\n      }\n    }\n  ]\n}"
            }
          },
          "metadata": {},
          "execution_count": 3
        }
      ]
    },
    {
      "cell_type": "markdown",
      "source": [
        "# EDA"
      ],
      "metadata": {
        "id": "Q6LqpYcZ1V_Q"
      }
    },
    {
      "cell_type": "code",
      "source": [
        "df.shape"
      ],
      "metadata": {
        "colab": {
          "base_uri": "https://localhost:8080/"
        },
        "id": "HBVDu2xFz_2V",
        "outputId": "2a51e5ac-0f00-46f9-9f66-4a60acd9e162"
      },
      "execution_count": null,
      "outputs": [
        {
          "output_type": "execute_result",
          "data": {
            "text/plain": [
              "(548, 7)"
            ]
          },
          "metadata": {},
          "execution_count": 4
        }
      ]
    },
    {
      "cell_type": "code",
      "source": [
        "df.info()"
      ],
      "metadata": {
        "colab": {
          "base_uri": "https://localhost:8080/"
        },
        "id": "4rk6Necy0Ohw",
        "outputId": "6e6f6587-1c54-430b-a5b8-fc94f713800c"
      },
      "execution_count": null,
      "outputs": [
        {
          "output_type": "stream",
          "name": "stdout",
          "text": [
            "<class 'pandas.core.frame.DataFrame'>\n",
            "RangeIndex: 548 entries, 0 to 547\n",
            "Data columns (total 7 columns):\n",
            " #   Column            Non-Null Count  Dtype  \n",
            "---  ------            --------------  -----  \n",
            " 0   MarketID          548 non-null    int64  \n",
            " 1   MarketSize        548 non-null    object \n",
            " 2   LocationID        548 non-null    int64  \n",
            " 3   AgeOfStore        548 non-null    int64  \n",
            " 4   Promotion         548 non-null    int64  \n",
            " 5   week              548 non-null    int64  \n",
            " 6   SalesInThousands  548 non-null    float64\n",
            "dtypes: float64(1), int64(5), object(1)\n",
            "memory usage: 30.1+ KB\n"
          ]
        }
      ]
    },
    {
      "cell_type": "code",
      "source": [
        "df.describe() #MarketID, Promotion은 수치형 변수 아님"
      ],
      "metadata": {
        "colab": {
          "base_uri": "https://localhost:8080/",
          "height": 300
        },
        "id": "iw_iZF2I0PaR",
        "outputId": "675d2b6d-0018-4f25-8733-23ba690a6720"
      },
      "execution_count": null,
      "outputs": [
        {
          "output_type": "execute_result",
          "data": {
            "text/plain": [
              "         MarketID  LocationID  AgeOfStore   Promotion        week  \\\n",
              "count  548.000000  548.000000  548.000000  548.000000  548.000000   \n",
              "mean     5.715328  479.656934    8.503650    2.029197    2.500000   \n",
              "std      2.877001  287.973679    6.638345    0.810729    1.119055   \n",
              "min      1.000000    1.000000    1.000000    1.000000    1.000000   \n",
              "25%      3.000000  216.000000    4.000000    1.000000    1.750000   \n",
              "50%      6.000000  504.000000    7.000000    2.000000    2.500000   \n",
              "75%      8.000000  708.000000   12.000000    3.000000    3.250000   \n",
              "max     10.000000  920.000000   28.000000    3.000000    4.000000   \n",
              "\n",
              "       SalesInThousands  \n",
              "count        548.000000  \n",
              "mean          53.466204  \n",
              "std           16.755216  \n",
              "min           17.340000  \n",
              "25%           42.545000  \n",
              "50%           50.200000  \n",
              "75%           60.477500  \n",
              "max           99.650000  "
            ],
            "text/html": [
              "\n",
              "  <div id=\"df-abfddfdb-957b-4892-bc21-9102b3296f88\" class=\"colab-df-container\">\n",
              "    <div>\n",
              "<style scoped>\n",
              "    .dataframe tbody tr th:only-of-type {\n",
              "        vertical-align: middle;\n",
              "    }\n",
              "\n",
              "    .dataframe tbody tr th {\n",
              "        vertical-align: top;\n",
              "    }\n",
              "\n",
              "    .dataframe thead th {\n",
              "        text-align: right;\n",
              "    }\n",
              "</style>\n",
              "<table border=\"1\" class=\"dataframe\">\n",
              "  <thead>\n",
              "    <tr style=\"text-align: right;\">\n",
              "      <th></th>\n",
              "      <th>MarketID</th>\n",
              "      <th>LocationID</th>\n",
              "      <th>AgeOfStore</th>\n",
              "      <th>Promotion</th>\n",
              "      <th>week</th>\n",
              "      <th>SalesInThousands</th>\n",
              "    </tr>\n",
              "  </thead>\n",
              "  <tbody>\n",
              "    <tr>\n",
              "      <th>count</th>\n",
              "      <td>548.000000</td>\n",
              "      <td>548.000000</td>\n",
              "      <td>548.000000</td>\n",
              "      <td>548.000000</td>\n",
              "      <td>548.000000</td>\n",
              "      <td>548.000000</td>\n",
              "    </tr>\n",
              "    <tr>\n",
              "      <th>mean</th>\n",
              "      <td>5.715328</td>\n",
              "      <td>479.656934</td>\n",
              "      <td>8.503650</td>\n",
              "      <td>2.029197</td>\n",
              "      <td>2.500000</td>\n",
              "      <td>53.466204</td>\n",
              "    </tr>\n",
              "    <tr>\n",
              "      <th>std</th>\n",
              "      <td>2.877001</td>\n",
              "      <td>287.973679</td>\n",
              "      <td>6.638345</td>\n",
              "      <td>0.810729</td>\n",
              "      <td>1.119055</td>\n",
              "      <td>16.755216</td>\n",
              "    </tr>\n",
              "    <tr>\n",
              "      <th>min</th>\n",
              "      <td>1.000000</td>\n",
              "      <td>1.000000</td>\n",
              "      <td>1.000000</td>\n",
              "      <td>1.000000</td>\n",
              "      <td>1.000000</td>\n",
              "      <td>17.340000</td>\n",
              "    </tr>\n",
              "    <tr>\n",
              "      <th>25%</th>\n",
              "      <td>3.000000</td>\n",
              "      <td>216.000000</td>\n",
              "      <td>4.000000</td>\n",
              "      <td>1.000000</td>\n",
              "      <td>1.750000</td>\n",
              "      <td>42.545000</td>\n",
              "    </tr>\n",
              "    <tr>\n",
              "      <th>50%</th>\n",
              "      <td>6.000000</td>\n",
              "      <td>504.000000</td>\n",
              "      <td>7.000000</td>\n",
              "      <td>2.000000</td>\n",
              "      <td>2.500000</td>\n",
              "      <td>50.200000</td>\n",
              "    </tr>\n",
              "    <tr>\n",
              "      <th>75%</th>\n",
              "      <td>8.000000</td>\n",
              "      <td>708.000000</td>\n",
              "      <td>12.000000</td>\n",
              "      <td>3.000000</td>\n",
              "      <td>3.250000</td>\n",
              "      <td>60.477500</td>\n",
              "    </tr>\n",
              "    <tr>\n",
              "      <th>max</th>\n",
              "      <td>10.000000</td>\n",
              "      <td>920.000000</td>\n",
              "      <td>28.000000</td>\n",
              "      <td>3.000000</td>\n",
              "      <td>4.000000</td>\n",
              "      <td>99.650000</td>\n",
              "    </tr>\n",
              "  </tbody>\n",
              "</table>\n",
              "</div>\n",
              "    <div class=\"colab-df-buttons\">\n",
              "\n",
              "  <div class=\"colab-df-container\">\n",
              "    <button class=\"colab-df-convert\" onclick=\"convertToInteractive('df-abfddfdb-957b-4892-bc21-9102b3296f88')\"\n",
              "            title=\"Convert this dataframe to an interactive table.\"\n",
              "            style=\"display:none;\">\n",
              "\n",
              "  <svg xmlns=\"http://www.w3.org/2000/svg\" height=\"24px\" viewBox=\"0 -960 960 960\">\n",
              "    <path d=\"M120-120v-720h720v720H120Zm60-500h600v-160H180v160Zm220 220h160v-160H400v160Zm0 220h160v-160H400v160ZM180-400h160v-160H180v160Zm440 0h160v-160H620v160ZM180-180h160v-160H180v160Zm440 0h160v-160H620v160Z\"/>\n",
              "  </svg>\n",
              "    </button>\n",
              "\n",
              "  <style>\n",
              "    .colab-df-container {\n",
              "      display:flex;\n",
              "      gap: 12px;\n",
              "    }\n",
              "\n",
              "    .colab-df-convert {\n",
              "      background-color: #E8F0FE;\n",
              "      border: none;\n",
              "      border-radius: 50%;\n",
              "      cursor: pointer;\n",
              "      display: none;\n",
              "      fill: #1967D2;\n",
              "      height: 32px;\n",
              "      padding: 0 0 0 0;\n",
              "      width: 32px;\n",
              "    }\n",
              "\n",
              "    .colab-df-convert:hover {\n",
              "      background-color: #E2EBFA;\n",
              "      box-shadow: 0px 1px 2px rgba(60, 64, 67, 0.3), 0px 1px 3px 1px rgba(60, 64, 67, 0.15);\n",
              "      fill: #174EA6;\n",
              "    }\n",
              "\n",
              "    .colab-df-buttons div {\n",
              "      margin-bottom: 4px;\n",
              "    }\n",
              "\n",
              "    [theme=dark] .colab-df-convert {\n",
              "      background-color: #3B4455;\n",
              "      fill: #D2E3FC;\n",
              "    }\n",
              "\n",
              "    [theme=dark] .colab-df-convert:hover {\n",
              "      background-color: #434B5C;\n",
              "      box-shadow: 0px 1px 3px 1px rgba(0, 0, 0, 0.15);\n",
              "      filter: drop-shadow(0px 1px 2px rgba(0, 0, 0, 0.3));\n",
              "      fill: #FFFFFF;\n",
              "    }\n",
              "  </style>\n",
              "\n",
              "    <script>\n",
              "      const buttonEl =\n",
              "        document.querySelector('#df-abfddfdb-957b-4892-bc21-9102b3296f88 button.colab-df-convert');\n",
              "      buttonEl.style.display =\n",
              "        google.colab.kernel.accessAllowed ? 'block' : 'none';\n",
              "\n",
              "      async function convertToInteractive(key) {\n",
              "        const element = document.querySelector('#df-abfddfdb-957b-4892-bc21-9102b3296f88');\n",
              "        const dataTable =\n",
              "          await google.colab.kernel.invokeFunction('convertToInteractive',\n",
              "                                                    [key], {});\n",
              "        if (!dataTable) return;\n",
              "\n",
              "        const docLinkHtml = 'Like what you see? Visit the ' +\n",
              "          '<a target=\"_blank\" href=https://colab.research.google.com/notebooks/data_table.ipynb>data table notebook</a>'\n",
              "          + ' to learn more about interactive tables.';\n",
              "        element.innerHTML = '';\n",
              "        dataTable['output_type'] = 'display_data';\n",
              "        await google.colab.output.renderOutput(dataTable, element);\n",
              "        const docLink = document.createElement('div');\n",
              "        docLink.innerHTML = docLinkHtml;\n",
              "        element.appendChild(docLink);\n",
              "      }\n",
              "    </script>\n",
              "  </div>\n",
              "\n",
              "\n",
              "<div id=\"df-34838041-db36-4aaa-aa31-65c03dc03dc2\">\n",
              "  <button class=\"colab-df-quickchart\" onclick=\"quickchart('df-34838041-db36-4aaa-aa31-65c03dc03dc2')\"\n",
              "            title=\"Suggest charts\"\n",
              "            style=\"display:none;\">\n",
              "\n",
              "<svg xmlns=\"http://www.w3.org/2000/svg\" height=\"24px\"viewBox=\"0 0 24 24\"\n",
              "     width=\"24px\">\n",
              "    <g>\n",
              "        <path d=\"M19 3H5c-1.1 0-2 .9-2 2v14c0 1.1.9 2 2 2h14c1.1 0 2-.9 2-2V5c0-1.1-.9-2-2-2zM9 17H7v-7h2v7zm4 0h-2V7h2v10zm4 0h-2v-4h2v4z\"/>\n",
              "    </g>\n",
              "</svg>\n",
              "  </button>\n",
              "\n",
              "<style>\n",
              "  .colab-df-quickchart {\n",
              "      --bg-color: #E8F0FE;\n",
              "      --fill-color: #1967D2;\n",
              "      --hover-bg-color: #E2EBFA;\n",
              "      --hover-fill-color: #174EA6;\n",
              "      --disabled-fill-color: #AAA;\n",
              "      --disabled-bg-color: #DDD;\n",
              "  }\n",
              "\n",
              "  [theme=dark] .colab-df-quickchart {\n",
              "      --bg-color: #3B4455;\n",
              "      --fill-color: #D2E3FC;\n",
              "      --hover-bg-color: #434B5C;\n",
              "      --hover-fill-color: #FFFFFF;\n",
              "      --disabled-bg-color: #3B4455;\n",
              "      --disabled-fill-color: #666;\n",
              "  }\n",
              "\n",
              "  .colab-df-quickchart {\n",
              "    background-color: var(--bg-color);\n",
              "    border: none;\n",
              "    border-radius: 50%;\n",
              "    cursor: pointer;\n",
              "    display: none;\n",
              "    fill: var(--fill-color);\n",
              "    height: 32px;\n",
              "    padding: 0;\n",
              "    width: 32px;\n",
              "  }\n",
              "\n",
              "  .colab-df-quickchart:hover {\n",
              "    background-color: var(--hover-bg-color);\n",
              "    box-shadow: 0 1px 2px rgba(60, 64, 67, 0.3), 0 1px 3px 1px rgba(60, 64, 67, 0.15);\n",
              "    fill: var(--button-hover-fill-color);\n",
              "  }\n",
              "\n",
              "  .colab-df-quickchart-complete:disabled,\n",
              "  .colab-df-quickchart-complete:disabled:hover {\n",
              "    background-color: var(--disabled-bg-color);\n",
              "    fill: var(--disabled-fill-color);\n",
              "    box-shadow: none;\n",
              "  }\n",
              "\n",
              "  .colab-df-spinner {\n",
              "    border: 2px solid var(--fill-color);\n",
              "    border-color: transparent;\n",
              "    border-bottom-color: var(--fill-color);\n",
              "    animation:\n",
              "      spin 1s steps(1) infinite;\n",
              "  }\n",
              "\n",
              "  @keyframes spin {\n",
              "    0% {\n",
              "      border-color: transparent;\n",
              "      border-bottom-color: var(--fill-color);\n",
              "      border-left-color: var(--fill-color);\n",
              "    }\n",
              "    20% {\n",
              "      border-color: transparent;\n",
              "      border-left-color: var(--fill-color);\n",
              "      border-top-color: var(--fill-color);\n",
              "    }\n",
              "    30% {\n",
              "      border-color: transparent;\n",
              "      border-left-color: var(--fill-color);\n",
              "      border-top-color: var(--fill-color);\n",
              "      border-right-color: var(--fill-color);\n",
              "    }\n",
              "    40% {\n",
              "      border-color: transparent;\n",
              "      border-right-color: var(--fill-color);\n",
              "      border-top-color: var(--fill-color);\n",
              "    }\n",
              "    60% {\n",
              "      border-color: transparent;\n",
              "      border-right-color: var(--fill-color);\n",
              "    }\n",
              "    80% {\n",
              "      border-color: transparent;\n",
              "      border-right-color: var(--fill-color);\n",
              "      border-bottom-color: var(--fill-color);\n",
              "    }\n",
              "    90% {\n",
              "      border-color: transparent;\n",
              "      border-bottom-color: var(--fill-color);\n",
              "    }\n",
              "  }\n",
              "</style>\n",
              "\n",
              "  <script>\n",
              "    async function quickchart(key) {\n",
              "      const quickchartButtonEl =\n",
              "        document.querySelector('#' + key + ' button');\n",
              "      quickchartButtonEl.disabled = true;  // To prevent multiple clicks.\n",
              "      quickchartButtonEl.classList.add('colab-df-spinner');\n",
              "      try {\n",
              "        const charts = await google.colab.kernel.invokeFunction(\n",
              "            'suggestCharts', [key], {});\n",
              "      } catch (error) {\n",
              "        console.error('Error during call to suggestCharts:', error);\n",
              "      }\n",
              "      quickchartButtonEl.classList.remove('colab-df-spinner');\n",
              "      quickchartButtonEl.classList.add('colab-df-quickchart-complete');\n",
              "    }\n",
              "    (() => {\n",
              "      let quickchartButtonEl =\n",
              "        document.querySelector('#df-34838041-db36-4aaa-aa31-65c03dc03dc2 button');\n",
              "      quickchartButtonEl.style.display =\n",
              "        google.colab.kernel.accessAllowed ? 'block' : 'none';\n",
              "    })();\n",
              "  </script>\n",
              "</div>\n",
              "\n",
              "    </div>\n",
              "  </div>\n"
            ],
            "application/vnd.google.colaboratory.intrinsic+json": {
              "type": "dataframe",
              "summary": "{\n  \"name\": \"df\",\n  \"rows\": 8,\n  \"fields\": [\n    {\n      \"column\": \"MarketID\",\n      \"properties\": {\n        \"dtype\": \"number\",\n        \"std\": 191.92127039894453,\n        \"min\": 1.0,\n        \"max\": 548.0,\n        \"num_unique_values\": 8,\n        \"samples\": [\n          5.7153284671532845,\n          6.0,\n          548.0\n        ],\n        \"semantic_type\": \"\",\n        \"description\": \"\"\n      }\n    },\n    {\n      \"column\": \"LocationID\",\n      \"properties\": {\n        \"dtype\": \"number\",\n        \"std\": 288.5804970099677,\n        \"min\": 1.0,\n        \"max\": 920.0,\n        \"num_unique_values\": 8,\n        \"samples\": [\n          479.6569343065693,\n          504.0,\n          548.0\n        ],\n        \"semantic_type\": \"\",\n        \"description\": \"\"\n      }\n    },\n    {\n      \"column\": \"AgeOfStore\",\n      \"properties\": {\n        \"dtype\": \"number\",\n        \"std\": 190.5309950201914,\n        \"min\": 1.0,\n        \"max\": 548.0,\n        \"num_unique_values\": 8,\n        \"samples\": [\n          8.503649635036496,\n          7.0,\n          548.0\n        ],\n        \"semantic_type\": \"\",\n        \"description\": \"\"\n      }\n    },\n    {\n      \"column\": \"Promotion\",\n      \"properties\": {\n        \"dtype\": \"number\",\n        \"std\": 193.10067585457892,\n        \"min\": 0.8107288421050998,\n        \"max\": 548.0,\n        \"num_unique_values\": 6,\n        \"samples\": [\n          548.0,\n          2.0291970802919708,\n          3.0\n        ],\n        \"semantic_type\": \"\",\n        \"description\": \"\"\n      }\n    },\n    {\n      \"column\": \"week\",\n      \"properties\": {\n        \"dtype\": \"number\",\n        \"std\": 192.93581045414467,\n        \"min\": 1.0,\n        \"max\": 548.0,\n        \"num_unique_values\": 7,\n        \"samples\": [\n          548.0,\n          2.5,\n          3.25\n        ],\n        \"semantic_type\": \"\",\n        \"description\": \"\"\n      }\n    },\n    {\n      \"column\": \"SalesInThousands\",\n      \"properties\": {\n        \"dtype\": \"number\",\n        \"std\": 178.48467784527566,\n        \"min\": 16.755215821664237,\n        \"max\": 548.0,\n        \"num_unique_values\": 8,\n        \"samples\": [\n          53.46620437956205,\n          50.2,\n          548.0\n        ],\n        \"semantic_type\": \"\",\n        \"description\": \"\"\n      }\n    }\n  ]\n}"
            }
          },
          "metadata": {},
          "execution_count": 6
        }
      ]
    },
    {
      "cell_type": "code",
      "source": [
        "df.Promotion.unique()"
      ],
      "metadata": {
        "colab": {
          "base_uri": "https://localhost:8080/"
        },
        "id": "MVDdMEyJ09I3",
        "outputId": "20c82e13-7e4b-4669-c87c-40b164bd8088"
      },
      "execution_count": null,
      "outputs": [
        {
          "output_type": "execute_result",
          "data": {
            "text/plain": [
              "array([3, 2, 1])"
            ]
          },
          "metadata": {},
          "execution_count": 7
        }
      ]
    },
    {
      "cell_type": "code",
      "source": [
        "df.AgeOfStore.hist()"
      ],
      "metadata": {
        "colab": {
          "base_uri": "https://localhost:8080/",
          "height": 448
        },
        "id": "b1BW9yfJ1D_i",
        "outputId": "43b8896e-9f72-4519-d3db-ed5154d19798"
      },
      "execution_count": null,
      "outputs": [
        {
          "output_type": "execute_result",
          "data": {
            "text/plain": [
              "<Axes: >"
            ]
          },
          "metadata": {},
          "execution_count": 9
        },
        {
          "output_type": "display_data",
          "data": {
            "text/plain": [
              "<Figure size 640x480 with 1 Axes>"
            ],
            "image/png": "[encoded data removed]"
          },
          "metadata": {}
        }
      ]
    },
    {
      "cell_type": "code",
      "source": [
        "df.Promotion.value_counts() #프로모션별 고객 배분 고르게 이루어짐"
      ],
      "metadata": {
        "colab": {
          "base_uri": "https://localhost:8080/"
        },
        "id": "T85rmRM_1bYC",
        "outputId": "f55b7092-0a12-4fbf-f202-16af26331fb6"
      },
      "execution_count": null,
      "outputs": [
        {
          "output_type": "execute_result",
          "data": {
            "text/plain": [
              "Promotion\n",
              "3    188\n",
              "2    188\n",
              "1    172\n",
              "Name: count, dtype: int64"
            ]
          },
          "metadata": {},
          "execution_count": 10
        }
      ]
    },
    {
      "cell_type": "code",
      "source": [
        "df.groupby(['Promotion', 'MarketSize'])['MarketID'].count() #3가지 프로모션별로 시장영역의 크기(MarketSize)에 따른 고른 배분이 이루어지진 않은듯"
      ],
      "metadata": {
        "colab": {
          "base_uri": "https://localhost:8080/"
        },
        "id": "grf6fLqt4gPh",
        "outputId": "ea06d8ac-79f3-476b-a0ca-7f4a0d66a539"
      },
      "execution_count": null,
      "outputs": [
        {
          "output_type": "execute_result",
          "data": {
            "text/plain": [
              "Promotion  MarketSize\n",
              "1          Large          56\n",
              "           Medium         96\n",
              "           Small          20\n",
              "2          Large          64\n",
              "           Medium        108\n",
              "           Small          16\n",
              "3          Large          48\n",
              "           Medium        116\n",
              "           Small          24\n",
              "Name: MarketID, dtype: int64"
            ]
          },
          "metadata": {},
          "execution_count": 8
        }
      ]
    },
    {
      "cell_type": "markdown",
      "source": [
        "# Monitoring Dashboard\n",
        "---\n",
        "## 1. 프로모션별 성과 측정\n",
        "- 시장 크기를 고려하여 개별 산출"
      ],
      "metadata": {
        "id": "_0mfEnV-4wm7"
      }
    },
    {
      "cell_type": "code",
      "source": [
        "tmp=df.copy()\n",
        "tmp.groupby(['Promotion'])['SalesInThousands'].sum()    #Promotion별 총 매출액 합"
      ],
      "metadata": {
        "colab": {
          "base_uri": "https://localhost:8080/"
        },
        "id": "qmPkEbgF5d3u",
        "outputId": "af8bb5a2-6bd4-4654-cb54-b46e3dbf6b89"
      },
      "execution_count": null,
      "outputs": [
        {
          "output_type": "execute_result",
          "data": {
            "text/plain": [
              "Promotion\n",
              "1     9993.03\n",
              "2     8897.93\n",
              "3    10408.52\n",
              "Name: SalesInThousands, dtype: float64"
            ]
          },
          "metadata": {},
          "execution_count": 69
        }
      ]
    },
    {
      "cell_type": "code",
      "source": [
        "#프로모션, 시장크기별 총 매출액\n",
        "pm_sz = df.groupby(['Promotion', 'MarketSize'])[['SalesInThousands']].sum().rename(columns = {'SalesInThousands':'Total_Sales'})\n",
        "pm_sz"
      ],
      "metadata": {
        "id": "8VuqfFZD1bRg",
        "colab": {
          "base_uri": "https://localhost:8080/",
          "height": 362
        },
        "outputId": "7239a9f1-a093-4f26-882b-1bd6a6bfdb8d"
      },
      "execution_count": null,
      "outputs": [
        {
          "output_type": "execute_result",
          "data": {
            "text/plain": [
              "                      Total_Sales\n",
              "Promotion MarketSize             \n",
              "1         Large           4213.21\n",
              "          Medium          4576.57\n",
              "          Small           1203.25\n",
              "2         Large           3860.61\n",
              "          Medium          4224.35\n",
              "          Small            812.97\n",
              "3         Large           3705.79\n",
              "          Medium          5274.39\n",
              "          Small           1428.34"
            ],
            "text/html": [
              "\n",
              "  <div id=\"df-17942211-00e6-4bef-a32c-06138d75ff7b\" class=\"colab-df-container\">\n",
              "    <div>\n",
              "<style scoped>\n",
              "    .dataframe tbody tr th:only-of-type {\n",
              "        vertical-align: middle;\n",
              "    }\n",
              "\n",
              "    .dataframe tbody tr th {\n",
              "        vertical-align: top;\n",
              "    }\n",
              "\n",
              "    .dataframe thead th {\n",
              "        text-align: right;\n",
              "    }\n",
              "</style>\n",
              "<table border=\"1\" class=\"dataframe\">\n",
              "  <thead>\n",
              "    <tr style=\"text-align: right;\">\n",
              "      <th></th>\n",
              "      <th></th>\n",
              "      <th>Total_Sales</th>\n",
              "    </tr>\n",
              "    <tr>\n",
              "      <th>Promotion</th>\n",
              "      <th>MarketSize</th>\n",
              "      <th></th>\n",
              "    </tr>\n",
              "  </thead>\n",
              "  <tbody>\n",
              "    <tr>\n",
              "      <th rowspan=\"3\" valign=\"top\">1</th>\n",
              "      <th>Large</th>\n",
              "      <td>4213.21</td>\n",
              "    </tr>\n",
              "    <tr>\n",
              "      <th>Medium</th>\n",
              "      <td>4576.57</td>\n",
              "    </tr>\n",
              "    <tr>\n",
              "      <th>Small</th>\n",
              "      <td>1203.25</td>\n",
              "    </tr>\n",
              "    <tr>\n",
              "      <th rowspan=\"3\" valign=\"top\">2</th>\n",
              "      <th>Large</th>\n",
              "      <td>3860.61</td>\n",
              "    </tr>\n",
              "    <tr>\n",
              "      <th>Medium</th>\n",
              "      <td>4224.35</td>\n",
              "    </tr>\n",
              "    <tr>\n",
              "      <th>Small</th>\n",
              "      <td>812.97</td>\n",
              "    </tr>\n",
              "    <tr>\n",
              "      <th rowspan=\"3\" valign=\"top\">3</th>\n",
              "      <th>Large</th>\n",
              "      <td>3705.79</td>\n",
              "    </tr>\n",
              "    <tr>\n",
              "      <th>Medium</th>\n",
              "      <td>5274.39</td>\n",
              "    </tr>\n",
              "    <tr>\n",
              "      <th>Small</th>\n",
              "      <td>1428.34</td>\n",
              "    </tr>\n",
              "  </tbody>\n",
              "</table>\n",
              "</div>\n",
              "    <div class=\"colab-df-buttons\">\n",
              "\n",
              "  <div class=\"colab-df-container\">\n",
              "    <button class=\"colab-df-convert\" onclick=\"convertToInteractive('df-17942211-00e6-4bef-a32c-06138d75ff7b')\"\n",
              "            title=\"Convert this dataframe to an interactive table.\"\n",
              "            style=\"display:none;\">\n",
              "\n",
              "  <svg xmlns=\"http://www.w3.org/2000/svg\" height=\"24px\" viewBox=\"0 -960 960 960\">\n",
              "    <path d=\"M120-120v-720h720v720H120Zm60-500h600v-160H180v160Zm220 220h160v-160H400v160Zm0 220h160v-160H400v160ZM180-400h160v-160H180v160Zm440 0h160v-160H620v160ZM180-180h160v-160H180v160Zm440 0h160v-160H620v160Z\"/>\n",
              "  </svg>\n",
              "    </button>\n",
              "\n",
              "  <style>\n",
              "    .colab-df-container {\n",
              "      display:flex;\n",
              "      gap: 12px;\n",
              "    }\n",
              "\n",
              "    .colab-df-convert {\n",
              "      background-color: #E8F0FE;\n",
              "      border: none;\n",
              "      border-radius: 50%;\n",
              "      cursor: pointer;\n",
              "      display: none;\n",
              "      fill: #1967D2;\n",
              "      height: 32px;\n",
              "      padding: 0 0 0 0;\n",
              "      width: 32px;\n",
              "    }\n",
              "\n",
              "    .colab-df-convert:hover {\n",
              "      background-color: #E2EBFA;\n",
              "      box-shadow: 0px 1px 2px rgba(60, 64, 67, 0.3), 0px 1px 3px 1px rgba(60, 64, 67, 0.15);\n",
              "      fill: #174EA6;\n",
              "    }\n",
              "\n",
              "    .colab-df-buttons div {\n",
              "      margin-bottom: 4px;\n",
              "    }\n",
              "\n",
              "    [theme=dark] .colab-df-convert {\n",
              "      background-color: #3B4455;\n",
              "      fill: #D2E3FC;\n",
              "    }\n",
              "\n",
              "    [theme=dark] .colab-df-convert:hover {\n",
              "      background-color: #434B5C;\n",
              "      box-shadow: 0px 1px 3px 1px rgba(0, 0, 0, 0.15);\n",
              "      filter: drop-shadow(0px 1px 2px rgba(0, 0, 0, 0.3));\n",
              "      fill: #FFFFFF;\n",
              "    }\n",
              "  </style>\n",
              "\n",
              "    <script>\n",
              "      const buttonEl =\n",
              "        document.querySelector('#df-17942211-00e6-4bef-a32c-06138d75ff7b button.colab-df-convert');\n",
              "      buttonEl.style.display =\n",
              "        google.colab.kernel.accessAllowed ? 'block' : 'none';\n",
              "\n",
              "      async function convertToInteractive(key) {\n",
              "        const element = document.querySelector('#df-17942211-00e6-4bef-a32c-06138d75ff7b');\n",
              "        const dataTable =\n",
              "          await google.colab.kernel.invokeFunction('convertToInteractive',\n",
              "                                                    [key], {});\n",
              "        if (!dataTable) return;\n",
              "\n",
              "        const docLinkHtml = 'Like what you see? Visit the ' +\n",
              "          '<a target=\"_blank\" href=https://colab.research.google.com/notebooks/data_table.ipynb>data table notebook</a>'\n",
              "          + ' to learn more about interactive tables.';\n",
              "        element.innerHTML = '';\n",
              "        dataTable['output_type'] = 'display_data';\n",
              "        await google.colab.output.renderOutput(dataTable, element);\n",
              "        const docLink = document.createElement('div');\n",
              "        docLink.innerHTML = docLinkHtml;\n",
              "        element.appendChild(docLink);\n",
              "      }\n",
              "    </script>\n",
              "  </div>\n",
              "\n",
              "\n",
              "<div id=\"df-b6a35f3f-a192-4e6d-bb48-f5ab5987aba9\">\n",
              "  <button class=\"colab-df-quickchart\" onclick=\"quickchart('df-b6a35f3f-a192-4e6d-bb48-f5ab5987aba9')\"\n",
              "            title=\"Suggest charts\"\n",
              "            style=\"display:none;\">\n",
              "\n",
              "<svg xmlns=\"http://www.w3.org/2000/svg\" height=\"24px\"viewBox=\"0 0 24 24\"\n",
              "     width=\"24px\">\n",
              "    <g>\n",
              "        <path d=\"M19 3H5c-1.1 0-2 .9-2 2v14c0 1.1.9 2 2 2h14c1.1 0 2-.9 2-2V5c0-1.1-.9-2-2-2zM9 17H7v-7h2v7zm4 0h-2V7h2v10zm4 0h-2v-4h2v4z\"/>\n",
              "    </g>\n",
              "</svg>\n",
              "  </button>\n",
              "\n",
              "<style>\n",
              "  .colab-df-quickchart {\n",
              "      --bg-color: #E8F0FE;\n",
              "      --fill-color: #1967D2;\n",
              "      --hover-bg-color: #E2EBFA;\n",
              "      --hover-fill-color: #174EA6;\n",
              "      --disabled-fill-color: #AAA;\n",
              "      --disabled-bg-color: #DDD;\n",
              "  }\n",
              "\n",
              "  [theme=dark] .colab-df-quickchart {\n",
              "      --bg-color: #3B4455;\n",
              "      --fill-color: #D2E3FC;\n",
              "      --hover-bg-color: #434B5C;\n",
              "      --hover-fill-color: #FFFFFF;\n",
              "      --disabled-bg-color: #3B4455;\n",
              "      --disabled-fill-color: #666;\n",
              "  }\n",
              "\n",
              "  .colab-df-quickchart {\n",
              "    background-color: var(--bg-color);\n",
              "    border: none;\n",
              "    border-radius: 50%;\n",
              "    cursor: pointer;\n",
              "    display: none;\n",
              "    fill: var(--fill-color);\n",
              "    height: 32px;\n",
              "    padding: 0;\n",
              "    width: 32px;\n",
              "  }\n",
              "\n",
              "  .colab-df-quickchart:hover {\n",
              "    background-color: var(--hover-bg-color);\n",
              "    box-shadow: 0 1px 2px rgba(60, 64, 67, 0.3), 0 1px 3px 1px rgba(60, 64, 67, 0.15);\n",
              "    fill: var(--button-hover-fill-color);\n",
              "  }\n",
              "\n",
              "  .colab-df-quickchart-complete:disabled,\n",
              "  .colab-df-quickchart-complete:disabled:hover {\n",
              "    background-color: var(--disabled-bg-color);\n",
              "    fill: var(--disabled-fill-color);\n",
              "    box-shadow: none;\n",
              "  }\n",
              "\n",
              "  .colab-df-spinner {\n",
              "    border: 2px solid var(--fill-color);\n",
              "    border-color: transparent;\n",
              "    border-bottom-color: var(--fill-color);\n",
              "    animation:\n",
              "      spin 1s steps(1) infinite;\n",
              "  }\n",
              "\n",
              "  @keyframes spin {\n",
              "    0% {\n",
              "      border-color: transparent;\n",
              "      border-bottom-color: var(--fill-color);\n",
              "      border-left-color: var(--fill-color);\n",
              "    }\n",
              "    20% {\n",
              "      border-color: transparent;\n",
              "      border-left-color: var(--fill-color);\n",
              "      border-top-color: var(--fill-color);\n",
              "    }\n",
              "    30% {\n",
              "      border-color: transparent;\n",
              "      border-left-color: var(--fill-color);\n",
              "      border-top-color: var(--fill-color);\n",
              "      border-right-color: var(--fill-color);\n",
              "    }\n",
              "    40% {\n",
              "      border-color: transparent;\n",
              "      border-right-color: var(--fill-color);\n",
              "      border-top-color: var(--fill-color);\n",
              "    }\n",
              "    60% {\n",
              "      border-color: transparent;\n",
              "      border-right-color: var(--fill-color);\n",
              "    }\n",
              "    80% {\n",
              "      border-color: transparent;\n",
              "      border-right-color: var(--fill-color);\n",
              "      border-bottom-color: var(--fill-color);\n",
              "    }\n",
              "    90% {\n",
              "      border-color: transparent;\n",
              "      border-bottom-color: var(--fill-color);\n",
              "    }\n",
              "  }\n",
              "</style>\n",
              "\n",
              "  <script>\n",
              "    async function quickchart(key) {\n",
              "      const quickchartButtonEl =\n",
              "        document.querySelector('#' + key + ' button');\n",
              "      quickchartButtonEl.disabled = true;  // To prevent multiple clicks.\n",
              "      quickchartButtonEl.classList.add('colab-df-spinner');\n",
              "      try {\n",
              "        const charts = await google.colab.kernel.invokeFunction(\n",
              "            'suggestCharts', [key], {});\n",
              "      } catch (error) {\n",
              "        console.error('Error during call to suggestCharts:', error);\n",
              "      }\n",
              "      quickchartButtonEl.classList.remove('colab-df-spinner');\n",
              "      quickchartButtonEl.classList.add('colab-df-quickchart-complete');\n",
              "    }\n",
              "    (() => {\n",
              "      let quickchartButtonEl =\n",
              "        document.querySelector('#df-b6a35f3f-a192-4e6d-bb48-f5ab5987aba9 button');\n",
              "      quickchartButtonEl.style.display =\n",
              "        google.colab.kernel.accessAllowed ? 'block' : 'none';\n",
              "    })();\n",
              "  </script>\n",
              "</div>\n",
              "\n",
              "  <div id=\"id_196dbd1e-375f-4a7a-8607-a4d064dec15e\">\n",
              "    <style>\n",
              "      .colab-df-generate {\n",
              "        background-color: #E8F0FE;\n",
              "        border: none;\n",
              "        border-radius: 50%;\n",
              "        cursor: pointer;\n",
              "        display: none;\n",
              "        fill: #1967D2;\n",
              "        height: 32px;\n",
              "        padding: 0 0 0 0;\n",
              "        width: 32px;\n",
              "      }\n",
              "\n",
              "      .colab-df-generate:hover {\n",
              "        background-color: #E2EBFA;\n",
              "        box-shadow: 0px 1px 2px rgba(60, 64, 67, 0.3), 0px 1px 3px 1px rgba(60, 64, 67, 0.15);\n",
              "        fill: #174EA6;\n",
              "      }\n",
              "\n",
              "      [theme=dark] .colab-df-generate {\n",
              "        background-color: #3B4455;\n",
              "        fill: #D2E3FC;\n",
              "      }\n",
              "\n",
              "      [theme=dark] .colab-df-generate:hover {\n",
              "        background-color: #434B5C;\n",
              "        box-shadow: 0px 1px 3px 1px rgba(0, 0, 0, 0.15);\n",
              "        filter: drop-shadow(0px 1px 2px rgba(0, 0, 0, 0.3));\n",
              "        fill: #FFFFFF;\n",
              "      }\n",
              "    </style>\n",
              "    <button class=\"colab-df-generate\" onclick=\"generateWithVariable('pm_sz')\"\n",
              "            title=\"Generate code using this dataframe.\"\n",
              "            style=\"display:none;\">\n",
              "\n",
              "  <svg xmlns=\"http://www.w3.org/2000/svg\" height=\"24px\"viewBox=\"0 0 24 24\"\n",
              "       width=\"24px\">\n",
              "    <path d=\"M7,19H8.4L18.45,9,17,7.55,7,17.6ZM5,21V16.75L18.45,3.32a2,2,0,0,1,2.83,0l1.4,1.43a1.91,1.91,0,0,1,.58,1.4,1.91,1.91,0,0,1-.58,1.4L9.25,21ZM18.45,9,17,7.55Zm-12,3A5.31,5.31,0,0,0,4.9,8.1,5.31,5.31,0,0,0,1,6.5,5.31,5.31,0,0,0,4.9,4.9,5.31,5.31,0,0,0,6.5,1,5.31,5.31,0,0,0,8.1,4.9,5.31,5.31,0,0,0,12,6.5,5.46,5.46,0,0,0,6.5,12Z\"/>\n",
              "  </svg>\n",
              "    </button>\n",
              "    <script>\n",
              "      (() => {\n",
              "      const buttonEl =\n",
              "        document.querySelector('#id_196dbd1e-375f-4a7a-8607-a4d064dec15e button.colab-df-generate');\n",
              "      buttonEl.style.display =\n",
              "        google.colab.kernel.accessAllowed ? 'block' : 'none';\n",
              "\n",
              "      buttonEl.onclick = () => {\n",
              "        google.colab.notebook.generateWithVariable('pm_sz');\n",
              "      }\n",
              "      })();\n",
              "    </script>\n",
              "  </div>\n",
              "\n",
              "    </div>\n",
              "  </div>\n"
            ],
            "application/vnd.google.colaboratory.intrinsic+json": {
              "type": "dataframe",
              "variable_name": "pm_sz",
              "summary": "{\n  \"name\": \"pm_sz\",\n  \"rows\": 9,\n  \"fields\": [\n    {\n      \"column\": \"Total_Sales\",\n      \"properties\": {\n        \"dtype\": \"number\",\n        \"std\": 1649.3232426042036,\n        \"min\": 812.97,\n        \"max\": 5274.39,\n        \"num_unique_values\": 9,\n        \"samples\": [\n          5274.39,\n          4576.57,\n          812.97\n        ],\n        \"semantic_type\": \"\",\n        \"description\": \"\"\n      }\n    }\n  ]\n}"
            }
          },
          "metadata": {},
          "execution_count": 33
        }
      ]
    },
    {
      "cell_type": "code",
      "source": [
        "pm_sz.reset_index(inplace=True)"
      ],
      "metadata": {
        "id": "8vO5xj1n67Zt"
      },
      "execution_count": null,
      "outputs": []
    },
    {
      "cell_type": "code",
      "source": [
        "#프로모션별 데이터 구분\n",
        "pm1 = pm_sz.loc[pm_sz['Promotion']==1]\n",
        "pm2 = pm_sz.loc[pm_sz['Promotion']==2]\n",
        "pm3 = pm_sz.loc[pm_sz['Promotion']==3]"
      ],
      "metadata": {
        "id": "GKDPVEq2Bvg3"
      },
      "execution_count": null,
      "outputs": []
    },
    {
      "cell_type": "code",
      "source": [
        "#Promotion == 1\n",
        "plt.figure(figsize=(4,4))\n",
        "bars = plt.bar(pm1['MarketSize'], pm1['Total_Sales'], color='skyblue')\n",
        "plt.xticks(pm1['MarketSize'].unique().tolist())\n",
        "plt.xlabel('Promotion 1 MarketSize')\n",
        "plt.ylabel('Total_Sales')\n",
        "# 막대 위에 값 표시하기\n",
        "for bar in bars:\n",
        "    height = bar.get_height()\n",
        "    plt.text(bar.get_x() + bar.get_width() / 2, height/2, f'{height}', ha='center', va='bottom')"
      ],
      "metadata": {
        "colab": {
          "base_uri": "https://localhost:8080/",
          "height": 388
        },
        "id": "bv6XcFdUCegJ",
        "outputId": "8df3f705-a907-4f58-f16f-baec75dad73c"
      },
      "execution_count": null,
      "outputs": [
        {
          "output_type": "display_data",
          "data": {
            "text/plain": [
              "<Figure size 400x400 with 1 Axes>"
            ],
            "image/png": "[encoded data removed]"
          },
          "metadata": {}
        }
      ]
    },
    {
      "cell_type": "code",
      "source": [
        "#Promotion == 2\n",
        "plt.figure(figsize=(4,4))\n",
        "bars = plt.bar(pm2['MarketSize'], pm2['Total_Sales'], color='pink')\n",
        "plt.xticks(pm2['MarketSize'].unique().tolist())\n",
        "plt.xlabel('Promotion 2 MarketSize')\n",
        "plt.ylabel('Total_Sales')\n",
        "# 막대 위에 값 표시하기\n",
        "for bar in bars:\n",
        "    height = bar.get_height()\n",
        "    plt.text(bar.get_x() + bar.get_width() / 2, height/2, f'{height}', ha='center', va='bottom')"
      ],
      "metadata": {
        "colab": {
          "base_uri": "https://localhost:8080/",
          "height": 388
        },
        "id": "l14Mvd51CeYm",
        "outputId": "750282a9-05c4-4f44-f34b-b7989656e1c1"
      },
      "execution_count": null,
      "outputs": [
        {
          "output_type": "display_data",
          "data": {
            "text/plain": [
              "<Figure size 400x400 with 1 Axes>"
            ],
            "image/png": "[encoded data removed]"
          },
          "metadata": {}
        }
      ]
    },
    {
      "cell_type": "code",
      "source": [
        "#Promotion == 3\n",
        "plt.figure(figsize=(4,4))\n",
        "bars = plt.bar(pm3['MarketSize'], pm3['Total_Sales'], color='lavender')\n",
        "plt.xticks(pm3['MarketSize'].unique().tolist())\n",
        "plt.xlabel('Promotion 3 MarketSize')\n",
        "plt.ylabel('Total_Sales')\n",
        "# 막대 위에 값 표시하기\n",
        "for bar in bars:\n",
        "    height = bar.get_height()\n",
        "    plt.text(bar.get_x() + bar.get_width() / 2, height/2, f'{height}', ha='center', va='bottom')"
      ],
      "metadata": {
        "id": "aX8G06QU1bNW",
        "colab": {
          "base_uri": "https://localhost:8080/",
          "height": 388
        },
        "outputId": "b1c63883-085d-4d45-be68-b1196409226d"
      },
      "execution_count": null,
      "outputs": [
        {
          "output_type": "display_data",
          "data": {
            "text/plain": [
              "<Figure size 400x400 with 1 Axes>"
            ],
            "image/png": "[encoded data removed]"
          },
          "metadata": {}
        }
      ]
    },
    {
      "cell_type": "markdown",
      "source": [
        "# t-검정을 활용한 매출액 상승 파악\n",
        "---\n",
        "#### **t-검정 수행 가설**\n",
        "```\n",
        "귀무가설(H0): 매출액이 증가했다고 보기 어렵다.\n",
        "대립가설(H1): 매출액이 증가했다고 볼 수 있다.\n",
        "```\n",
        "\n",
        "\n",
        "#### **코드 요약**\n",
        "> 1. 임의로 프로모션 시행 전후 데이터 구분\n",
        "\n",
        "```\n",
        "1) 프로모션별 시장크기별로 프로모션 전후 데이터를 고르게 배분\n",
        "2) 매출액이 적은 데이터가 프로모션 시행 전 데이터로 선정되도록 부여\n",
        "```\n",
        "> 2. t-검정(시장 크기 고려 X)\n",
        "\n",
        "> 3. t-검정(시장 크기 고려 O)"
      ],
      "metadata": {
        "id": "wONVhtgx3755"
      }
    },
    {
      "cell_type": "markdown",
      "source": [
        "## 데이터 분할"
      ],
      "metadata": {
        "id": "OZNQWJjQQ08P"
      }
    },
    {
      "cell_type": "code",
      "source": [
        "#프로모션별 데이터 구분\n",
        "pm1 = df.loc[df['Promotion']==1].sort_values('SalesInThousands')\n",
        "pm2 = df.loc[df['Promotion']==2].sort_values('SalesInThousands')\n",
        "pm3 = df.loc[df['Promotion']==3].sort_values('SalesInThousands')"
      ],
      "metadata": {
        "id": "nCoLedPjGMds"
      },
      "execution_count": null,
      "outputs": []
    },
    {
      "cell_type": "code",
      "source": [
        "#프로모션 시행 전,후를 구분하는 컬럼 생성 및 부여\n",
        "def assign_period(group):\n",
        "  group['Period'] = 'After'\n",
        "  num_rows = len(group)\n",
        "  before_count = num_rows // 2\n",
        "  group.iloc[:before_count, group.columns.get_loc('Period')] = 'Before'\n",
        "  return group"
      ],
      "metadata": {
        "id": "bdarlUFjNJwF"
      },
      "execution_count": null,
      "outputs": []
    },
    {
      "cell_type": "code",
      "source": [
        "pm1 = pm1.groupby('MarketSize').apply(assign_period).reset_index(drop=True)\n",
        "pm2 = pm2.groupby('MarketSize').apply(assign_period).reset_index(drop=True)\n",
        "pm3 = pm3.groupby('MarketSize').apply(assign_period).reset_index(drop=True)"
      ],
      "metadata": {
        "id": "cgwUhmwBPNLU"
      },
      "execution_count": null,
      "outputs": []
    },
    {
      "cell_type": "code",
      "source": [
        "pm1.groupby(['MarketSize','Period'])['MarketID'].count() #고르게 배분되었는지 확인"
      ],
      "metadata": {
        "colab": {
          "base_uri": "https://localhost:8080/"
        },
        "id": "kUDfetFiQN1A",
        "outputId": "980dd9f5-ce9f-4324-e3d5-1fc19e4225d7"
      },
      "execution_count": null,
      "outputs": [
        {
          "output_type": "execute_result",
          "data": {
            "text/plain": [
              "MarketSize  Period\n",
              "Large       After     28\n",
              "            Before    28\n",
              "Medium      After     48\n",
              "            Before    48\n",
              "Small       After     10\n",
              "            Before    10\n",
              "Name: MarketID, dtype: int64"
            ]
          },
          "metadata": {},
          "execution_count": 136
        }
      ]
    },
    {
      "cell_type": "code",
      "source": [
        "pm2.groupby(['MarketSize','Period'])['MarketID'].count() #고르게 배분되었는지 확인"
      ],
      "metadata": {
        "colab": {
          "base_uri": "https://localhost:8080/"
        },
        "id": "y92riTxrPNI3",
        "outputId": "0679a40f-a711-438c-f209-794ad60eb1a5"
      },
      "execution_count": null,
      "outputs": [
        {
          "output_type": "execute_result",
          "data": {
            "text/plain": [
              "MarketSize  Period\n",
              "Large       After     32\n",
              "            Before    32\n",
              "Medium      After     54\n",
              "            Before    54\n",
              "Small       After      8\n",
              "            Before     8\n",
              "Name: MarketID, dtype: int64"
            ]
          },
          "metadata": {},
          "execution_count": 137
        }
      ]
    },
    {
      "cell_type": "code",
      "source": [
        "pm3.groupby(['MarketSize','Period'])['MarketID'].count() #고르게 배분되었는지 확인"
      ],
      "metadata": {
        "colab": {
          "base_uri": "https://localhost:8080/"
        },
        "id": "8GVKD5Y6PNHK",
        "outputId": "94be4f01-5e8d-4009-cbd7-0357c382f869"
      },
      "execution_count": null,
      "outputs": [
        {
          "output_type": "execute_result",
          "data": {
            "text/plain": [
              "MarketSize  Period\n",
              "Large       After     24\n",
              "            Before    24\n",
              "Medium      After     58\n",
              "            Before    58\n",
              "Small       After     12\n",
              "            Before    12\n",
              "Name: MarketID, dtype: int64"
            ]
          },
          "metadata": {},
          "execution_count": 138
        }
      ]
    },
    {
      "cell_type": "markdown",
      "source": [
        "## t-검정 수행"
      ],
      "metadata": {
        "id": "lmivNSASQxHV"
      }
    },
    {
      "cell_type": "code",
      "source": [
        "from scipy import stats"
      ],
      "metadata": {
        "id": "7Ne-piGYRN2W"
      },
      "execution_count": null,
      "outputs": []
    },
    {
      "cell_type": "markdown",
      "source": [
        "### 시장 크기 고려 X"
      ],
      "metadata": {
        "id": "Z0NabZkxSAW_"
      }
    },
    {
      "cell_type": "code",
      "source": [
        "# 프로모션 전후 매출액 기술 통계 확인\n",
        "print('Promotion 1 시행 효과 분석')\n",
        "print(pm1.groupby('Period')['SalesInThousands'].describe(),'\\n')\n",
        "\n",
        "# t-검정 수행\n",
        "before_sales = pm1[pm1['Period'] == 'Before']['SalesInThousands']\n",
        "after_sales = pm1[pm1['Period'] == 'After']['SalesInThousands']\n",
        "t_stat, p_value = stats.ttest_ind(before_sales, after_sales)\n",
        "\n",
        "print(f\"t-Statistic: {t_stat}, p-Value: {p_value}\",'\\n')\n",
        "\n",
        "# 결과 해석\n",
        "if p_value < 0.05:\n",
        "    print(\"Promotion 1 시행 후 매출액이 유의미하게 증가했습니다.\")\n",
        "else:\n",
        "    print(\"Promotion 1 시행 후 매출액이 유의미하게 증가하지 않았습니다.\")"
      ],
      "metadata": {
        "id": "1pXQCmBU1bG1",
        "colab": {
          "base_uri": "https://localhost:8080/"
        },
        "outputId": "2ed92253-b3d0-47e3-cbda-ad66b064451c"
      },
      "execution_count": null,
      "outputs": [
        {
          "output_type": "stream",
          "name": "stdout",
          "text": [
            "Promotion 1 시행 효과 분석\n",
            "        count       mean        std    min    25%     50%      75%    max\n",
            "Period                                                                   \n",
            "After    86.0  67.077907  16.733629  47.50  54.46  60.105  85.5850  99.65\n",
            "Before   86.0  49.120116  10.398405  30.81  41.10  46.255  59.5225  68.31 \n",
            "\n",
            "t-Statistic: -8.452930232651857, p-Value: 1.2365316719528816e-14 \n",
            "\n",
            "Promotion 1 시행 후 매출액이 유의미하게 증가했습니다.\n"
          ]
        }
      ]
    },
    {
      "cell_type": "code",
      "source": [
        "# 프로모션 전후 매출액 기술 통계 확인\n",
        "print('Promotion 2 시행 효과 분석')\n",
        "print(pm2.groupby('Period')['SalesInThousands'].describe(),'\\n')\n",
        "\n",
        "# t-검정 수행\n",
        "before_sales = pm2[pm2['Period'] == 'Before']['SalesInThousands']\n",
        "after_sales = pm2[pm2['Period'] == 'After']['SalesInThousands']\n",
        "t_stat, p_value = stats.ttest_ind(before_sales, after_sales)\n",
        "\n",
        "print(f\"t-Statistic: {t_stat}, p-Value: {p_value}\",'\\n')\n",
        "\n",
        "# 결과 해석\n",
        "if p_value < 0.05:\n",
        "    print(\"Promotion 2 시행 후 매출액이 유의미하게 증가했습니다.\")\n",
        "else:\n",
        "    print(\"Promotion 2 시행 후 매출액이 유의미하게 증가하지 않았습니다.\")"
      ],
      "metadata": {
        "colab": {
          "base_uri": "https://localhost:8080/"
        },
        "id": "2cwCMW8KRuTO",
        "outputId": "7c79ab9f-f248-4cd9-b76b-b686b8372360"
      },
      "execution_count": null,
      "outputs": [
        {
          "output_type": "stream",
          "name": "stdout",
          "text": [
            "Promotion 2 시행 효과 분석\n",
            "        count       mean        std    min      25%    50%      75%    max\n",
            "Period                                                                    \n",
            "After    94.0  56.289681  14.738622  39.80  44.9000  51.59  64.9775  88.64\n",
            "Before   94.0  38.369149   8.915680  17.34  31.6775  38.08  46.1575  52.36 \n",
            "\n",
            "t-Statistic: -10.086583610967956, p-Value: 2.322881758222661e-19 \n",
            "\n",
            "Promotion 2 시행 후 매출액이 유의미하게 증가했습니다.\n"
          ]
        }
      ]
    },
    {
      "cell_type": "code",
      "source": [
        "# 프로모션 전후 매출액 기술 통계 확인\n",
        "print('Promotion 3 시행 효과 분석')\n",
        "print(pm3.groupby('Period')['SalesInThousands'].describe(),'\\n')\n",
        "\n",
        "# t-검정 수행\n",
        "before_sales = pm3[pm3['Period'] == 'Before']['SalesInThousands']\n",
        "after_sales = pm3[pm3['Period'] == 'After']['SalesInThousands']\n",
        "t_stat, p_value = stats.ttest_ind(before_sales, after_sales)\n",
        "\n",
        "print(f\"t-Statistic: {t_stat}, p-Value: {p_value}\",'\\n')\n",
        "\n",
        "# 결과 해석\n",
        "if p_value < 0.05:\n",
        "    print(\"Promotion 3 시행 후 매출액이 유의미하게 증가했습니다.\")\n",
        "else:\n",
        "    print(\"Promotion 3 시행 후 매출액이 유의미하게 증가하지 않았습니다.\")"
      ],
      "metadata": {
        "colab": {
          "base_uri": "https://localhost:8080/"
        },
        "id": "SIhpu-MfRuOL",
        "outputId": "720c0b88-7dda-4e79-ea3e-de8c1eecbb72"
      },
      "execution_count": null,
      "outputs": [
        {
          "output_type": "stream",
          "name": "stdout",
          "text": [
            "Promotion 3 시행 효과 분석\n",
            "        count       mean        std    min      25%     50%     75%    max\n",
            "Period                                                                    \n",
            "After    94.0  62.453511  15.819823  46.30  50.1475  54.990  79.570  96.48\n",
            "Before   94.0  48.275426  14.607500  22.18  39.2900  44.195  54.595  82.13 \n",
            "\n",
            "t-Statistic: -6.3839329677163175, p-Value: 1.34060457004848e-09 \n",
            "\n",
            "Promotion 3 시행 후 매출액이 유의미하게 증가했습니다.\n"
          ]
        }
      ]
    },
    {
      "cell_type": "markdown",
      "source": [
        "### 시장 크기 고려 O"
      ],
      "metadata": {
        "id": "ZpAIMmeaSDb9"
      }
    },
    {
      "cell_type": "code",
      "source": [
        "for market_size in market_sizes:\n",
        "    before_sales = df[(df['MarketSize'] == market_size) & (df['Period'] == 'Before')]['SalesInThousands']\n",
        "    after_sales = df[(df['MarketSize'] == market_size) & (df['Period'] == 'After')]['SalesInThousands']\n",
        "    t_stat, p_value = stats.ttest_ind(before_sales, after_sales)\n",
        "    results[market_size] = (t_stat, p_value)\n",
        "\n",
        "# t-검정 결과 출력\n",
        "for market_size, (t_stat, p_value) in results.items():\n",
        "    print(f\"Market Size: {market_size}\")\n",
        "    print(f\"t-Statistic: {t_stat}, p-Value: {p_value}\")\n",
        "    if p_value < 0.05:\n",
        "        print(\"유의미한 매출 증가가 있습니다.\\n\")\n",
        "    else:\n",
        "        print(\"유의미한 매출 증가가 없습니다.\\n\")"
      ],
      "metadata": {
        "id": "OEPsBcm3Sdov"
      },
      "execution_count": null,
      "outputs": []
    },
    {
      "cell_type": "code",
      "source": [
        "# t-검정 수행\n",
        "before_sales = pm3[pm3['Period'] == 'Before']['SalesInThousands']\n",
        "after_sales = pm3[pm3['Period'] == 'After']['SalesInThousands']\n",
        "t_stat, p_value = stats.ttest_ind(before_sales, after_sales)"
      ],
      "metadata": {
        "id": "vLpQdBJISFrr"
      },
      "execution_count": null,
      "outputs": []
    },
    {
      "cell_type": "code",
      "source": [
        "def t_test_by_market_size(df, name):\n",
        "    # MarketSize별 t-검정 수행\n",
        "    results = {}\n",
        "    market_sizes = df['MarketSize'].unique()\n",
        "\n",
        "    for market_size in market_sizes:\n",
        "        before_sales = df[(df['MarketSize'] == market_size) & (df['Period'] == 'Before')]['SalesInThousands']\n",
        "        after_sales = df[(df['MarketSize'] == market_size) & (df['Period'] == 'After')]['SalesInThousands']\n",
        "        t_stat, p_value = stats.ttest_ind(before_sales, after_sales)\n",
        "        results[market_size] = (t_stat, p_value)\n",
        "\n",
        "    print(\"------------------------------------------------------------\")\n",
        "    print(f\"{name}의 결과는 아래와 같습니다:\\n\")\n",
        "\n",
        "    for market_size, (t_stat, p_value) in results.items():\n",
        "      print(f\"Market Size: {market_size}\")\n",
        "      print(f\"t-Statistic: {t_stat}, p-Value: {p_value}\")\n",
        "      if p_value < 0.05:\n",
        "        print(\"유의미한 매출 증가가 있습니다.\\n\")\n",
        "      else:\n",
        "        print(\"유의미한 매출 증가가 없습니다.\\n\")\n",
        "\n",
        "    return"
      ],
      "metadata": {
        "id": "-R7Y8pvoTeNv"
      },
      "execution_count": null,
      "outputs": []
    },
    {
      "cell_type": "code",
      "source": [
        "t_test_by_market_size(pm1, 'Promotion 1')\n",
        "t_test_by_market_size(pm2, 'Promotion 2')\n",
        "t_test_by_market_size(pm3, 'Promotion 3')"
      ],
      "metadata": {
        "colab": {
          "base_uri": "https://localhost:8080/"
        },
        "id": "2RIfP9aoVOEq",
        "outputId": "7e055b2d-fcb1-4543-9a17-80910b641c5c"
      },
      "execution_count": null,
      "outputs": [
        {
          "output_type": "stream",
          "name": "stdout",
          "text": [
            "------------------------------------------------------------\n",
            "Promotion 1의 결과는 아래와 같습니다:\n",
            "\n",
            "Market Size: Large\n",
            "t-Statistic: -19.942420700051308, p-Value: 1.4256348393981768e-26\n",
            "유의미한 매출 증가가 있습니다.\n",
            "\n",
            "Market Size: Medium\n",
            "t-Statistic: -15.35667945527889, p-Value: 2.3056964495147867e-27\n",
            "유의미한 매출 증가가 있습니다.\n",
            "\n",
            "Market Size: Small\n",
            "t-Statistic: -7.129057832830541, p-Value: 1.2148643546812596e-06\n",
            "유의미한 매출 증가가 있습니다.\n",
            "\n",
            "------------------------------------------------------------\n",
            "Promotion 2의 결과는 아래와 같습니다:\n",
            "\n",
            "Market Size: Large\n",
            "t-Statistic: -12.231493516334337, p-Value: 3.5405293728663445e-18\n",
            "유의미한 매출 증가가 있습니다.\n",
            "\n",
            "Market Size: Medium\n",
            "t-Statistic: -14.799293477666598, p-Value: 1.5208694851857646e-27\n",
            "유의미한 매출 증가가 있습니다.\n",
            "\n",
            "Market Size: Small\n",
            "t-Statistic: -4.151726668520459, p-Value: 0.0009782699302775914\n",
            "유의미한 매출 증가가 있습니다.\n",
            "\n",
            "------------------------------------------------------------\n",
            "Promotion 3의 결과는 아래와 같습니다:\n",
            "\n",
            "Market Size: Large\n",
            "t-Statistic: -7.319067640177236, p-Value: 3.033499033275916e-09\n",
            "유의미한 매출 증가가 있습니다.\n",
            "\n",
            "Market Size: Medium\n",
            "t-Statistic: -13.655237354267497, p-Value: 9.619582301863989e-26\n",
            "유의미한 매출 증가가 있습니다.\n",
            "\n",
            "Market Size: Small\n",
            "t-Statistic: -5.740754302773835, p-Value: 8.951621817537476e-06\n",
            "유의미한 매출 증가가 있습니다.\n",
            "\n"
          ]
        }
      ]
    }
  ]
}