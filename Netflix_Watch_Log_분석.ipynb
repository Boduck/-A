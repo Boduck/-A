{
  "nbformat": 4,
  "nbformat_minor": 0,
  "metadata": {
    "colab": {
      "provenance": [],
      "toc_visible": true,
      "include_colab_link": true
    },
    "kernelspec": {
      "name": "python3",
      "display_name": "Python 3"
    },
    "language_info": {
      "name": "python"
    }
  },
  "cells": [
    {
      "cell_type": "markdown",
      "metadata": {
        "id": "view-in-github",
        "colab_type": "text"
      },
      "source": [
        "<a href=\"https://colab.research.google.com/github/Boduck/Data-Analysis/blob/main/Netflix_Watch_Log_%EB%B6%84%EC%84%9D.ipynb\" target=\"_parent\"><img src=\"https://colab.research.google.com/assets/colab-badge.svg\" alt=\"Open In Colab\"/></a>"
      ]
    },
    {
      "cell_type": "markdown",
      "source": [
        "# **Netflix Watch Log 분석**\n",
        "---\n",
        "> **목차(Context)**\n",
        "\n",
        "* 프로젝트 Summary\n",
        "* 문제상황 Introduction\n",
        "* EDA & Data Preprocessing\n",
        "* 장치 및 국가별 사용자 행동 패턴 분석\n",
        "* 검색과 상호작용 간 관계 분석"
      ],
      "metadata": {
        "id": "jR4fX00ayV2m"
      }
    },
    {
      "cell_type": "markdown",
      "source": [
        " ## **프로젝트 Summary**\n",
        "---\n",
        "\n",
        "> **프로젝트명**\n",
        "\n",
        "```\n",
        "▶ Netflix Watch Log 분석\n",
        "```  \n",
        "\n",
        "> **프로젝트유형**\n",
        "\n",
        "```\n",
        "▶ Netflix 검색 로그 활용 인사이트 추출\n",
        "\n",
        "```\n",
        "\n",
        "> **학습목표**\n",
        "\n",
        "```\n",
        "▶ 사용자의 검색 패턴 및 선호도 파악\n",
        "▶ 국가별, 장치별 접근 패턴 분석\n",
        "▶ 어린이 프로필 사용 패턴과 일반 프로필의 차이점 파악\n",
        "▶ 검색과 상호작용 간의 관계 분석\n",
        "```\n",
        "\n",
        "> **예상 결과물**\n",
        "\n",
        "```\n",
        "▶ Netflix 사용자의 주요 검색 키워드 및 트렌드 보고서\n",
        "▶ 장치 및 국가별 사용자 행동 패턴 시각화\n",
        "▶ 검색 로그를 활용한 추천 시스템 개선 방안 제안\n",
        "```"
      ],
      "metadata": {
        "id": "QInrP8L7zZDF"
      }
    },
    {
      "cell_type": "markdown",
      "source": [
        "\n",
        "## **문제상황 Introduction**\n",
        "---\n",
        "> **시나리오**\n",
        "\n",
        "```\n",
        "넷플릭스는 전세계적으로 수많은 사용자가 다양한 콘텐츠를 시청하는 플랫폼이다. 이런 대규모 플랫폼에서는 사용자의 시청 로그를 분석함으로써 어떤 콘텐츠가\n",
        "인기가 있고, 어떤 콘텐츠가 특정 지역이나 사용자 그룹에게 인기가 있는지 파악할 수 있다. 넷플릭스는 인사이트 추출을 통해 콘텐츠 제작자나 마케터에게\n",
        "귀중한 정보를 제공하고자 한다.\n",
        "```  \n",
        "\n",
        "> **문제정의**\n",
        "\n",
        "```\n",
        "▶ 시청 로그 데이터 기반 콘텐츠 발굴 체계 부족\n",
        "```  \n",
        "\n",
        "> **기대효과**\n",
        "\n",
        "```\n",
        "▶ 사용자 특성별 타겟 마케팅 아이디어 제공\n",
        "```\n",
        "\n",
        "> **해결방안**\n",
        "\n",
        "```\n",
        "▶ 사용자 특성 구분에 따른 콘텐츠 선호도 시각화(대시보드 구축)\n",
        "```\n",
        "\n",
        "> **성과측정**  \n",
        "\n",
        "```\n",
        "▶ 타겟 마케팅 시행 전후 MAU 및 신규 유입자수 비교\n",
        "```"
      ],
      "metadata": {
        "id": "xIS7Uhbz1CIc"
      }
    },
    {
      "cell_type": "markdown",
      "source": [
        "> **데이터 살펴보기**\n",
        "\n",
        "\n",
        "| Column Name       | Description                                          |\n",
        "|:------------------|:-----------------------------------------------------|\n",
        "| Profile Name      | 사용자 프로필 이름                                    |\n",
        "| Country Iso Code  | 플랫폼에 접근한 국가 코드                              |\n",
        "| Device            | 플랫폼에 접근한 장치                                  |\n",
        "| Is Kids           | 어린이 프로필 지표                                     |\n",
        "| Query Typed       | 플랫폼에서 검색한 텍스트                               |\n",
        "| Displayed Name    | 검색 결과에 표시된 텍스트                              |\n",
        "| Action            | 검색 결과에 대한 사용자 상호작용                       |\n",
        "| Section           | 결과가 검색 결과를 기반으로 생성되었는지 자동 생성되었는지 여부 |\n",
        "| Utc Timestamp     | 검색의 타임스탬프                                     |\n"
      ],
      "metadata": {
        "id": "RSuBl-Gz1TU8"
      }
    },
    {
      "cell_type": "code",
      "source": [
        "# ▶ Warnings 제거\n",
        "import warnings\n",
        "warnings.filterwarnings('ignore')\n",
        "\n",
        "# ▶ Google drive mount or 폴더 클릭 후 구글드라이브 연결\n",
        "from google.colab import drive\n",
        "drive.mount('/content/drive')\n",
        "\n",
        "# ▶ 경로 설정 (※강의자료가 위치에 있는 경로 확인)\n",
        "import os\n",
        "os.chdir(\"/content/drive/MyDrive/\")\n",
        "os.getcwd()"
      ],
      "metadata": {
        "colab": {
          "base_uri": "https://localhost:8080/",
          "height": 53
        },
        "id": "A1F_aGxXyjaH",
        "outputId": "6198376a-d04f-402d-ddbc-236685b76993"
      },
      "execution_count": null,
      "outputs": [
        {
          "output_type": "stream",
          "name": "stdout",
          "text": [
            "Mounted at /content/drive\n"
          ]
        },
        {
          "output_type": "execute_result",
          "data": {
            "text/plain": [
              "'/content/drive/MyDrive'"
            ],
            "application/vnd.google.colaboratory.intrinsic+json": {
              "type": "string"
            }
          },
          "metadata": {},
          "execution_count": 1
        }
      ]
    },
    {
      "cell_type": "code",
      "source": [
        "# ▶ Data read\n",
        "import pandas as pd\n",
        "import numpy as np\n",
        "import matplotlib.pyplot as plt\n",
        "import seaborn as sns\n",
        "df = pd.read_csv('P_PJT19_DATA.csv')\n",
        "df.head()"
      ],
      "metadata": {
        "colab": {
          "base_uri": "https://localhost:8080/",
          "height": 206
        },
        "id": "QoMmLoBq7oBn",
        "outputId": "0438d815-f48e-4927-9614-eecd77bb2696"
      },
      "execution_count": null,
      "outputs": [
        {
          "output_type": "execute_result",
          "data": {
            "text/plain": [
              "  Profile Name Country Iso Code    Device  Is Kids Query Typed  \\\n",
              "0       User 4               AE  Device 0        0         NaN   \n",
              "1       User 4               AE  Device 0        0         NaN   \n",
              "2       User 4               AE  Device 0        0         NaN   \n",
              "3       User 4               AE  Device 0        0         NaN   \n",
              "4       User 4               AE  Device 0        0    the gray   \n",
              "\n",
              "                Displayed Name  Action           Section        Utc Timestamp  \n",
              "0  Manifest: Season 1: \"Pilot\"    play  prequery_results  2022-08-01 13:59:19  \n",
              "1                          NaN  select  prequery_results  2022-08-01 13:59:18  \n",
              "2  Manifest: Season 1: \"Pilot\"    play  prequery_results  2022-08-01 13:59:07  \n",
              "3                          NaN  select  prequery_results  2022-08-01 13:59:03  \n",
              "4                 The Gray Man     add     title_results  2022-07-17 13:59:23  "
            ],
            "text/html": [
              "\n",
              "  <div id=\"df-8c534508-fc94-4d01-9495-468cc9794b36\" class=\"colab-df-container\">\n",
              "    <div>\n",
              "<style scoped>\n",
              "    .dataframe tbody tr th:only-of-type {\n",
              "        vertical-align: middle;\n",
              "    }\n",
              "\n",
              "    .dataframe tbody tr th {\n",
              "        vertical-align: top;\n",
              "    }\n",
              "\n",
              "    .dataframe thead th {\n",
              "        text-align: right;\n",
              "    }\n",
              "</style>\n",
              "<table border=\"1\" class=\"dataframe\">\n",
              "  <thead>\n",
              "    <tr style=\"text-align: right;\">\n",
              "      <th></th>\n",
              "      <th>Profile Name</th>\n",
              "      <th>Country Iso Code</th>\n",
              "      <th>Device</th>\n",
              "      <th>Is Kids</th>\n",
              "      <th>Query Typed</th>\n",
              "      <th>Displayed Name</th>\n",
              "      <th>Action</th>\n",
              "      <th>Section</th>\n",
              "      <th>Utc Timestamp</th>\n",
              "    </tr>\n",
              "  </thead>\n",
              "  <tbody>\n",
              "    <tr>\n",
              "      <th>0</th>\n",
              "      <td>User 4</td>\n",
              "      <td>AE</td>\n",
              "      <td>Device 0</td>\n",
              "      <td>0</td>\n",
              "      <td>NaN</td>\n",
              "      <td>Manifest: Season 1: \"Pilot\"</td>\n",
              "      <td>play</td>\n",
              "      <td>prequery_results</td>\n",
              "      <td>2022-08-01 13:59:19</td>\n",
              "    </tr>\n",
              "    <tr>\n",
              "      <th>1</th>\n",
              "      <td>User 4</td>\n",
              "      <td>AE</td>\n",
              "      <td>Device 0</td>\n",
              "      <td>0</td>\n",
              "      <td>NaN</td>\n",
              "      <td>NaN</td>\n",
              "      <td>select</td>\n",
              "      <td>prequery_results</td>\n",
              "      <td>2022-08-01 13:59:18</td>\n",
              "    </tr>\n",
              "    <tr>\n",
              "      <th>2</th>\n",
              "      <td>User 4</td>\n",
              "      <td>AE</td>\n",
              "      <td>Device 0</td>\n",
              "      <td>0</td>\n",
              "      <td>NaN</td>\n",
              "      <td>Manifest: Season 1: \"Pilot\"</td>\n",
              "      <td>play</td>\n",
              "      <td>prequery_results</td>\n",
              "      <td>2022-08-01 13:59:07</td>\n",
              "    </tr>\n",
              "    <tr>\n",
              "      <th>3</th>\n",
              "      <td>User 4</td>\n",
              "      <td>AE</td>\n",
              "      <td>Device 0</td>\n",
              "      <td>0</td>\n",
              "      <td>NaN</td>\n",
              "      <td>NaN</td>\n",
              "      <td>select</td>\n",
              "      <td>prequery_results</td>\n",
              "      <td>2022-08-01 13:59:03</td>\n",
              "    </tr>\n",
              "    <tr>\n",
              "      <th>4</th>\n",
              "      <td>User 4</td>\n",
              "      <td>AE</td>\n",
              "      <td>Device 0</td>\n",
              "      <td>0</td>\n",
              "      <td>the gray</td>\n",
              "      <td>The Gray Man</td>\n",
              "      <td>add</td>\n",
              "      <td>title_results</td>\n",
              "      <td>2022-07-17 13:59:23</td>\n",
              "    </tr>\n",
              "  </tbody>\n",
              "</table>\n",
              "</div>\n",
              "    <div class=\"colab-df-buttons\">\n",
              "\n",
              "  <div class=\"colab-df-container\">\n",
              "    <button class=\"colab-df-convert\" onclick=\"convertToInteractive('df-8c534508-fc94-4d01-9495-468cc9794b36')\"\n",
              "            title=\"Convert this dataframe to an interactive table.\"\n",
              "            style=\"display:none;\">\n",
              "\n",
              "  <svg xmlns=\"http://www.w3.org/2000/svg\" height=\"24px\" viewBox=\"0 -960 960 960\">\n",
              "    <path d=\"M120-120v-720h720v720H120Zm60-500h600v-160H180v160Zm220 220h160v-160H400v160Zm0 220h160v-160H400v160ZM180-400h160v-160H180v160Zm440 0h160v-160H620v160ZM180-180h160v-160H180v160Zm440 0h160v-160H620v160Z\"/>\n",
              "  </svg>\n",
              "    </button>\n",
              "\n",
              "  <style>\n",
              "    .colab-df-container {\n",
              "      display:flex;\n",
              "      gap: 12px;\n",
              "    }\n",
              "\n",
              "    .colab-df-convert {\n",
              "      background-color: #E8F0FE;\n",
              "      border: none;\n",
              "      border-radius: 50%;\n",
              "      cursor: pointer;\n",
              "      display: none;\n",
              "      fill: #1967D2;\n",
              "      height: 32px;\n",
              "      padding: 0 0 0 0;\n",
              "      width: 32px;\n",
              "    }\n",
              "\n",
              "    .colab-df-convert:hover {\n",
              "      background-color: #E2EBFA;\n",
              "      box-shadow: 0px 1px 2px rgba(60, 64, 67, 0.3), 0px 1px 3px 1px rgba(60, 64, 67, 0.15);\n",
              "      fill: #174EA6;\n",
              "    }\n",
              "\n",
              "    .colab-df-buttons div {\n",
              "      margin-bottom: 4px;\n",
              "    }\n",
              "\n",
              "    [theme=dark] .colab-df-convert {\n",
              "      background-color: #3B4455;\n",
              "      fill: #D2E3FC;\n",
              "    }\n",
              "\n",
              "    [theme=dark] .colab-df-convert:hover {\n",
              "      background-color: #434B5C;\n",
              "      box-shadow: 0px 1px 3px 1px rgba(0, 0, 0, 0.15);\n",
              "      filter: drop-shadow(0px 1px 2px rgba(0, 0, 0, 0.3));\n",
              "      fill: #FFFFFF;\n",
              "    }\n",
              "  </style>\n",
              "\n",
              "    <script>\n",
              "      const buttonEl =\n",
              "        document.querySelector('#df-8c534508-fc94-4d01-9495-468cc9794b36 button.colab-df-convert');\n",
              "      buttonEl.style.display =\n",
              "        google.colab.kernel.accessAllowed ? 'block' : 'none';\n",
              "\n",
              "      async function convertToInteractive(key) {\n",
              "        const element = document.querySelector('#df-8c534508-fc94-4d01-9495-468cc9794b36');\n",
              "        const dataTable =\n",
              "          await google.colab.kernel.invokeFunction('convertToInteractive',\n",
              "                                                    [key], {});\n",
              "        if (!dataTable) return;\n",
              "\n",
              "        const docLinkHtml = 'Like what you see? Visit the ' +\n",
              "          '<a target=\"_blank\" href=https://colab.research.google.com/notebooks/data_table.ipynb>data table notebook</a>'\n",
              "          + ' to learn more about interactive tables.';\n",
              "        element.innerHTML = '';\n",
              "        dataTable['output_type'] = 'display_data';\n",
              "        await google.colab.output.renderOutput(dataTable, element);\n",
              "        const docLink = document.createElement('div');\n",
              "        docLink.innerHTML = docLinkHtml;\n",
              "        element.appendChild(docLink);\n",
              "      }\n",
              "    </script>\n",
              "  </div>\n",
              "\n",
              "\n",
              "<div id=\"df-589f33d4-5996-42cb-8a15-32b3685df016\">\n",
              "  <button class=\"colab-df-quickchart\" onclick=\"quickchart('df-589f33d4-5996-42cb-8a15-32b3685df016')\"\n",
              "            title=\"Suggest charts\"\n",
              "            style=\"display:none;\">\n",
              "\n",
              "<svg xmlns=\"http://www.w3.org/2000/svg\" height=\"24px\"viewBox=\"0 0 24 24\"\n",
              "     width=\"24px\">\n",
              "    <g>\n",
              "        <path d=\"M19 3H5c-1.1 0-2 .9-2 2v14c0 1.1.9 2 2 2h14c1.1 0 2-.9 2-2V5c0-1.1-.9-2-2-2zM9 17H7v-7h2v7zm4 0h-2V7h2v10zm4 0h-2v-4h2v4z\"/>\n",
              "    </g>\n",
              "</svg>\n",
              "  </button>\n",
              "\n",
              "<style>\n",
              "  .colab-df-quickchart {\n",
              "      --bg-color: #E8F0FE;\n",
              "      --fill-color: #1967D2;\n",
              "      --hover-bg-color: #E2EBFA;\n",
              "      --hover-fill-color: #174EA6;\n",
              "      --disabled-fill-color: #AAA;\n",
              "      --disabled-bg-color: #DDD;\n",
              "  }\n",
              "\n",
              "  [theme=dark] .colab-df-quickchart {\n",
              "      --bg-color: #3B4455;\n",
              "      --fill-color: #D2E3FC;\n",
              "      --hover-bg-color: #434B5C;\n",
              "      --hover-fill-color: #FFFFFF;\n",
              "      --disabled-bg-color: #3B4455;\n",
              "      --disabled-fill-color: #666;\n",
              "  }\n",
              "\n",
              "  .colab-df-quickchart {\n",
              "    background-color: var(--bg-color);\n",
              "    border: none;\n",
              "    border-radius: 50%;\n",
              "    cursor: pointer;\n",
              "    display: none;\n",
              "    fill: var(--fill-color);\n",
              "    height: 32px;\n",
              "    padding: 0;\n",
              "    width: 32px;\n",
              "  }\n",
              "\n",
              "  .colab-df-quickchart:hover {\n",
              "    background-color: var(--hover-bg-color);\n",
              "    box-shadow: 0 1px 2px rgba(60, 64, 67, 0.3), 0 1px 3px 1px rgba(60, 64, 67, 0.15);\n",
              "    fill: var(--button-hover-fill-color);\n",
              "  }\n",
              "\n",
              "  .colab-df-quickchart-complete:disabled,\n",
              "  .colab-df-quickchart-complete:disabled:hover {\n",
              "    background-color: var(--disabled-bg-color);\n",
              "    fill: var(--disabled-fill-color);\n",
              "    box-shadow: none;\n",
              "  }\n",
              "\n",
              "  .colab-df-spinner {\n",
              "    border: 2px solid var(--fill-color);\n",
              "    border-color: transparent;\n",
              "    border-bottom-color: var(--fill-color);\n",
              "    animation:\n",
              "      spin 1s steps(1) infinite;\n",
              "  }\n",
              "\n",
              "  @keyframes spin {\n",
              "    0% {\n",
              "      border-color: transparent;\n",
              "      border-bottom-color: var(--fill-color);\n",
              "      border-left-color: var(--fill-color);\n",
              "    }\n",
              "    20% {\n",
              "      border-color: transparent;\n",
              "      border-left-color: var(--fill-color);\n",
              "      border-top-color: var(--fill-color);\n",
              "    }\n",
              "    30% {\n",
              "      border-color: transparent;\n",
              "      border-left-color: var(--fill-color);\n",
              "      border-top-color: var(--fill-color);\n",
              "      border-right-color: var(--fill-color);\n",
              "    }\n",
              "    40% {\n",
              "      border-color: transparent;\n",
              "      border-right-color: var(--fill-color);\n",
              "      border-top-color: var(--fill-color);\n",
              "    }\n",
              "    60% {\n",
              "      border-color: transparent;\n",
              "      border-right-color: var(--fill-color);\n",
              "    }\n",
              "    80% {\n",
              "      border-color: transparent;\n",
              "      border-right-color: var(--fill-color);\n",
              "      border-bottom-color: var(--fill-color);\n",
              "    }\n",
              "    90% {\n",
              "      border-color: transparent;\n",
              "      border-bottom-color: var(--fill-color);\n",
              "    }\n",
              "  }\n",
              "</style>\n",
              "\n",
              "  <script>\n",
              "    async function quickchart(key) {\n",
              "      const quickchartButtonEl =\n",
              "        document.querySelector('#' + key + ' button');\n",
              "      quickchartButtonEl.disabled = true;  // To prevent multiple clicks.\n",
              "      quickchartButtonEl.classList.add('colab-df-spinner');\n",
              "      try {\n",
              "        const charts = await google.colab.kernel.invokeFunction(\n",
              "            'suggestCharts', [key], {});\n",
              "      } catch (error) {\n",
              "        console.error('Error during call to suggestCharts:', error);\n",
              "      }\n",
              "      quickchartButtonEl.classList.remove('colab-df-spinner');\n",
              "      quickchartButtonEl.classList.add('colab-df-quickchart-complete');\n",
              "    }\n",
              "    (() => {\n",
              "      let quickchartButtonEl =\n",
              "        document.querySelector('#df-589f33d4-5996-42cb-8a15-32b3685df016 button');\n",
              "      quickchartButtonEl.style.display =\n",
              "        google.colab.kernel.accessAllowed ? 'block' : 'none';\n",
              "    })();\n",
              "  </script>\n",
              "</div>\n",
              "\n",
              "    </div>\n",
              "  </div>\n"
            ],
            "application/vnd.google.colaboratory.intrinsic+json": {
              "type": "dataframe",
              "variable_name": "df",
              "summary": "{\n  \"name\": \"df\",\n  \"rows\": 2616,\n  \"fields\": [\n    {\n      \"column\": \"Profile Name\",\n      \"properties\": {\n        \"dtype\": \"category\",\n        \"num_unique_values\": 9,\n        \"samples\": [\n          \"User 5\",\n          \"User 2\",\n          \"User 7\"\n        ],\n        \"semantic_type\": \"\",\n        \"description\": \"\"\n      }\n    },\n    {\n      \"column\": \"Country Iso Code\",\n      \"properties\": {\n        \"dtype\": \"category\",\n        \"num_unique_values\": 5,\n        \"samples\": [\n          \"CA\",\n          \"CR\",\n          \"IN\"\n        ],\n        \"semantic_type\": \"\",\n        \"description\": \"\"\n      }\n    },\n    {\n      \"column\": \"Device\",\n      \"properties\": {\n        \"dtype\": \"category\",\n        \"num_unique_values\": 6,\n        \"samples\": [\n          \"Device 0\",\n          \"Device 2\",\n          \"Device 5\"\n        ],\n        \"semantic_type\": \"\",\n        \"description\": \"\"\n      }\n    },\n    {\n      \"column\": \"Is Kids\",\n      \"properties\": {\n        \"dtype\": \"number\",\n        \"std\": 0,\n        \"min\": 0,\n        \"max\": 0,\n        \"num_unique_values\": 1,\n        \"samples\": [\n          0\n        ],\n        \"semantic_type\": \"\",\n        \"description\": \"\"\n      }\n    },\n    {\n      \"column\": \"Query Typed\",\n      \"properties\": {\n        \"dtype\": \"category\",\n        \"num_unique_values\": 396,\n        \"samples\": [\n          \"shers\"\n        ],\n        \"semantic_type\": \"\",\n        \"description\": \"\"\n      }\n    },\n    {\n      \"column\": \"Displayed Name\",\n      \"properties\": {\n        \"dtype\": \"category\",\n        \"num_unique_values\": 812,\n        \"samples\": [\n          \"KD (A) Karuppudurai\"\n        ],\n        \"semantic_type\": \"\",\n        \"description\": \"\"\n      }\n    },\n    {\n      \"column\": \"Action\",\n      \"properties\": {\n        \"dtype\": \"category\",\n        \"num_unique_values\": 3,\n        \"samples\": [\n          \"play\"\n        ],\n        \"semantic_type\": \"\",\n        \"description\": \"\"\n      }\n    },\n    {\n      \"column\": \"Section\",\n      \"properties\": {\n        \"dtype\": \"category\",\n        \"num_unique_values\": 3,\n        \"samples\": [\n          \"prequery_results\"\n        ],\n        \"semantic_type\": \"\",\n        \"description\": \"\"\n      }\n    },\n    {\n      \"column\": \"Utc Timestamp\",\n      \"properties\": {\n        \"dtype\": \"object\",\n        \"num_unique_values\": 2515,\n        \"samples\": [\n          \"2021-12-20 07:39:04\"\n        ],\n        \"semantic_type\": \"\",\n        \"description\": \"\"\n      }\n    }\n  ]\n}"
            }
          },
          "metadata": {},
          "execution_count": 2
        }
      ]
    },
    {
      "cell_type": "markdown",
      "source": [
        "- timestamp\n",
        "- Query Type, Displayed Names는 텍스트 데이터\n",
        "\n"
      ],
      "metadata": {
        "id": "yFcX3N4_pm2j"
      }
    },
    {
      "cell_type": "markdown",
      "source": [
        "# EDA & Data Preprocessing\n",
        "---\n",
        "> 요약\n",
        "\n",
        "```\n",
        "- 약 1.5년의 기간의 2,616행의 데이터\n",
        "- Timestamp와 범주형 변수, 텍스트 변수들로 이루어진 데이터셋\n",
        "- 텍스트 데이터(검색, 검색결과에 표시된 텍스트) 외에는 결측치가 없음\n",
        "- 모든 데이터에 대해 값이 동일한 상수 컬럼 Is Kids(어린이 프로필 지표) 컬럼은 정보성이 없는 변수\n",
        "- 같은 프로필 이름에도 다른 국가일 수 있음\n",
        "```\n",
        "\n",
        "> 변수 세부 탐색\n",
        "\n",
        "```\n",
        "* 사용자 프로필 이름\n",
        "  - User 0 ~ User 8 총 9가지의 프로필 이름\n",
        "  \n",
        "* Country Iso Code(국가 코드)\n",
        "  - IN(인도), AE(아랍에미리트), CA(캐나다), FR(프랑스), CR(코스타리카) 총 5개국의 데이터\n",
        "  - CA(캐나다), FR(프랑스), CR(코스타리카)의 경우, 각각 17개, 8개, 1개로 다른 국가코드에 비해 부족한 데이터 수\n",
        "  - IN, AE를 중점적으로 분석하는 것이 유의미한 분석일 것으로 판단\n",
        "\n",
        "* Device(장치)\n",
        "  - Device 0 ~ Device 5 총 6가지의 장치\n",
        "  - 불균형한 데이터\n",
        "\n",
        "* Action(상호작용)\n",
        "  - 검색 결과에 대한 사용자 상호작용\n",
        "  - select, play, add 3가지 행동으로 구분\n",
        "\n",
        "* Section(검색결과 생성방법)\n",
        " - 자동 생성되었는지, 검색 결과를 기반으로 생성되었는지\n",
        " - 약 30:10:1 의 비율로 불균형해보이는 범주형 데이터\n",
        "\n",
        "```"
      ],
      "metadata": {
        "id": "v56Mxam3ziNS"
      }
    },
    {
      "cell_type": "markdown",
      "source": [
        "## 과정"
      ],
      "metadata": {
        "id": "KzN3UUV1NlZL"
      }
    },
    {
      "cell_type": "code",
      "source": [
        "df.shape"
      ],
      "metadata": {
        "colab": {
          "base_uri": "https://localhost:8080/"
        },
        "id": "AB-8skySplVO",
        "outputId": "beea046f-cf97-4024-8fae-cd69d39add74"
      },
      "execution_count": null,
      "outputs": [
        {
          "output_type": "execute_result",
          "data": {
            "text/plain": [
              "(2616, 9)"
            ]
          },
          "metadata": {},
          "execution_count": 5
        }
      ]
    },
    {
      "cell_type": "code",
      "source": [
        "df.info()"
      ],
      "metadata": {
        "colab": {
          "base_uri": "https://localhost:8080/"
        },
        "id": "K7pJlwUYzhKo",
        "outputId": "d6596f92-fd34-4034-8c07-704428b2b71f"
      },
      "execution_count": null,
      "outputs": [
        {
          "output_type": "stream",
          "name": "stdout",
          "text": [
            "<class 'pandas.core.frame.DataFrame'>\n",
            "RangeIndex: 2615 entries, 0 to 2614\n",
            "Data columns (total 8 columns):\n",
            " #   Column            Non-Null Count  Dtype \n",
            "---  ------            --------------  ----- \n",
            " 0   Profile Name      2615 non-null   object\n",
            " 1   Country Iso Code  2615 non-null   object\n",
            " 2   Device            2615 non-null   object\n",
            " 3   Query Typed       1889 non-null   object\n",
            " 4   Displayed Name    1798 non-null   object\n",
            " 5   Action            2615 non-null   object\n",
            " 6   Section           2615 non-null   object\n",
            " 7   Utc Timestamp     2615 non-null   object\n",
            "dtypes: object(8)\n",
            "memory usage: 163.6+ KB\n"
          ]
        }
      ]
    },
    {
      "cell_type": "code",
      "source": [
        "df.isnull().sum()"
      ],
      "metadata": {
        "colab": {
          "base_uri": "https://localhost:8080/"
        },
        "id": "JOP-QR38pluL",
        "outputId": "9cb92889-5b67-4159-9601-d9dad83fa9a3"
      },
      "execution_count": null,
      "outputs": [
        {
          "output_type": "execute_result",
          "data": {
            "text/plain": [
              "Profile Name          0\n",
              "Country Iso Code      0\n",
              "Device                0\n",
              "Is Kids               0\n",
              "Query Typed         727\n",
              "Displayed Name      818\n",
              "Action                0\n",
              "Section               0\n",
              "Utc Timestamp         0\n",
              "dtype: int64"
            ]
          },
          "metadata": {},
          "execution_count": 7
        }
      ]
    },
    {
      "cell_type": "markdown",
      "source": [
        "- 텍스트 데이터(검색, 검색결과에 표시된 텍스트) 외에는 결측치가 없음"
      ],
      "metadata": {
        "id": "pTeB8QSZ1QT7"
      }
    },
    {
      "cell_type": "code",
      "source": [
        "df['Utc Timestamp'] = pd.to_datetime(df['Utc Timestamp'])\n",
        "df.head()"
      ],
      "metadata": {
        "colab": {
          "base_uri": "https://localhost:8080/",
          "height": 206
        },
        "id": "BqsCemBDzz5d",
        "outputId": "f2b858e5-235f-48bb-a4bd-1f017dc08703"
      },
      "execution_count": null,
      "outputs": [
        {
          "output_type": "execute_result",
          "data": {
            "text/plain": [
              "  Profile Name Country Iso Code    Device Query Typed  \\\n",
              "0       User 4               AE  Device 0         NaN   \n",
              "1       User 4               AE  Device 0         NaN   \n",
              "2       User 4               AE  Device 0         NaN   \n",
              "3       User 4               AE  Device 0         NaN   \n",
              "4       User 4               AE  Device 0    the gray   \n",
              "\n",
              "                Displayed Name  Action           Section       Utc Timestamp  \n",
              "0  Manifest: Season 1: \"Pilot\"    play  prequery_results 2022-08-01 13:59:19  \n",
              "1                          NaN  select  prequery_results 2022-08-01 13:59:18  \n",
              "2  Manifest: Season 1: \"Pilot\"    play  prequery_results 2022-08-01 13:59:07  \n",
              "3                          NaN  select  prequery_results 2022-08-01 13:59:03  \n",
              "4                 The Gray Man     add     title_results 2022-07-17 13:59:23  "
            ],
            "text/html": [
              "\n",
              "  <div id=\"df-4a936202-d16a-404e-9268-cac463d68961\" class=\"colab-df-container\">\n",
              "    <div>\n",
              "<style scoped>\n",
              "    .dataframe tbody tr th:only-of-type {\n",
              "        vertical-align: middle;\n",
              "    }\n",
              "\n",
              "    .dataframe tbody tr th {\n",
              "        vertical-align: top;\n",
              "    }\n",
              "\n",
              "    .dataframe thead th {\n",
              "        text-align: right;\n",
              "    }\n",
              "</style>\n",
              "<table border=\"1\" class=\"dataframe\">\n",
              "  <thead>\n",
              "    <tr style=\"text-align: right;\">\n",
              "      <th></th>\n",
              "      <th>Profile Name</th>\n",
              "      <th>Country Iso Code</th>\n",
              "      <th>Device</th>\n",
              "      <th>Query Typed</th>\n",
              "      <th>Displayed Name</th>\n",
              "      <th>Action</th>\n",
              "      <th>Section</th>\n",
              "      <th>Utc Timestamp</th>\n",
              "    </tr>\n",
              "  </thead>\n",
              "  <tbody>\n",
              "    <tr>\n",
              "      <th>0</th>\n",
              "      <td>User 4</td>\n",
              "      <td>AE</td>\n",
              "      <td>Device 0</td>\n",
              "      <td>NaN</td>\n",
              "      <td>Manifest: Season 1: \"Pilot\"</td>\n",
              "      <td>play</td>\n",
              "      <td>prequery_results</td>\n",
              "      <td>2022-08-01 13:59:19</td>\n",
              "    </tr>\n",
              "    <tr>\n",
              "      <th>1</th>\n",
              "      <td>User 4</td>\n",
              "      <td>AE</td>\n",
              "      <td>Device 0</td>\n",
              "      <td>NaN</td>\n",
              "      <td>NaN</td>\n",
              "      <td>select</td>\n",
              "      <td>prequery_results</td>\n",
              "      <td>2022-08-01 13:59:18</td>\n",
              "    </tr>\n",
              "    <tr>\n",
              "      <th>2</th>\n",
              "      <td>User 4</td>\n",
              "      <td>AE</td>\n",
              "      <td>Device 0</td>\n",
              "      <td>NaN</td>\n",
              "      <td>Manifest: Season 1: \"Pilot\"</td>\n",
              "      <td>play</td>\n",
              "      <td>prequery_results</td>\n",
              "      <td>2022-08-01 13:59:07</td>\n",
              "    </tr>\n",
              "    <tr>\n",
              "      <th>3</th>\n",
              "      <td>User 4</td>\n",
              "      <td>AE</td>\n",
              "      <td>Device 0</td>\n",
              "      <td>NaN</td>\n",
              "      <td>NaN</td>\n",
              "      <td>select</td>\n",
              "      <td>prequery_results</td>\n",
              "      <td>2022-08-01 13:59:03</td>\n",
              "    </tr>\n",
              "    <tr>\n",
              "      <th>4</th>\n",
              "      <td>User 4</td>\n",
              "      <td>AE</td>\n",
              "      <td>Device 0</td>\n",
              "      <td>the gray</td>\n",
              "      <td>The Gray Man</td>\n",
              "      <td>add</td>\n",
              "      <td>title_results</td>\n",
              "      <td>2022-07-17 13:59:23</td>\n",
              "    </tr>\n",
              "  </tbody>\n",
              "</table>\n",
              "</div>\n",
              "    <div class=\"colab-df-buttons\">\n",
              "\n",
              "  <div class=\"colab-df-container\">\n",
              "    <button class=\"colab-df-convert\" onclick=\"convertToInteractive('df-4a936202-d16a-404e-9268-cac463d68961')\"\n",
              "            title=\"Convert this dataframe to an interactive table.\"\n",
              "            style=\"display:none;\">\n",
              "\n",
              "  <svg xmlns=\"http://www.w3.org/2000/svg\" height=\"24px\" viewBox=\"0 -960 960 960\">\n",
              "    <path d=\"M120-120v-720h720v720H120Zm60-500h600v-160H180v160Zm220 220h160v-160H400v160Zm0 220h160v-160H400v160ZM180-400h160v-160H180v160Zm440 0h160v-160H620v160ZM180-180h160v-160H180v160Zm440 0h160v-160H620v160Z\"/>\n",
              "  </svg>\n",
              "    </button>\n",
              "\n",
              "  <style>\n",
              "    .colab-df-container {\n",
              "      display:flex;\n",
              "      gap: 12px;\n",
              "    }\n",
              "\n",
              "    .colab-df-convert {\n",
              "      background-color: #E8F0FE;\n",
              "      border: none;\n",
              "      border-radius: 50%;\n",
              "      cursor: pointer;\n",
              "      display: none;\n",
              "      fill: #1967D2;\n",
              "      height: 32px;\n",
              "      padding: 0 0 0 0;\n",
              "      width: 32px;\n",
              "    }\n",
              "\n",
              "    .colab-df-convert:hover {\n",
              "      background-color: #E2EBFA;\n",
              "      box-shadow: 0px 1px 2px rgba(60, 64, 67, 0.3), 0px 1px 3px 1px rgba(60, 64, 67, 0.15);\n",
              "      fill: #174EA6;\n",
              "    }\n",
              "\n",
              "    .colab-df-buttons div {\n",
              "      margin-bottom: 4px;\n",
              "    }\n",
              "\n",
              "    [theme=dark] .colab-df-convert {\n",
              "      background-color: #3B4455;\n",
              "      fill: #D2E3FC;\n",
              "    }\n",
              "\n",
              "    [theme=dark] .colab-df-convert:hover {\n",
              "      background-color: #434B5C;\n",
              "      box-shadow: 0px 1px 3px 1px rgba(0, 0, 0, 0.15);\n",
              "      filter: drop-shadow(0px 1px 2px rgba(0, 0, 0, 0.3));\n",
              "      fill: #FFFFFF;\n",
              "    }\n",
              "  </style>\n",
              "\n",
              "    <script>\n",
              "      const buttonEl =\n",
              "        document.querySelector('#df-4a936202-d16a-404e-9268-cac463d68961 button.colab-df-convert');\n",
              "      buttonEl.style.display =\n",
              "        google.colab.kernel.accessAllowed ? 'block' : 'none';\n",
              "\n",
              "      async function convertToInteractive(key) {\n",
              "        const element = document.querySelector('#df-4a936202-d16a-404e-9268-cac463d68961');\n",
              "        const dataTable =\n",
              "          await google.colab.kernel.invokeFunction('convertToInteractive',\n",
              "                                                    [key], {});\n",
              "        if (!dataTable) return;\n",
              "\n",
              "        const docLinkHtml = 'Like what you see? Visit the ' +\n",
              "          '<a target=\"_blank\" href=https://colab.research.google.com/notebooks/data_table.ipynb>data table notebook</a>'\n",
              "          + ' to learn more about interactive tables.';\n",
              "        element.innerHTML = '';\n",
              "        dataTable['output_type'] = 'display_data';\n",
              "        await google.colab.output.renderOutput(dataTable, element);\n",
              "        const docLink = document.createElement('div');\n",
              "        docLink.innerHTML = docLinkHtml;\n",
              "        element.appendChild(docLink);\n",
              "      }\n",
              "    </script>\n",
              "  </div>\n",
              "\n",
              "\n",
              "<div id=\"df-12f7b4b9-1749-48ae-bcab-521055873343\">\n",
              "  <button class=\"colab-df-quickchart\" onclick=\"quickchart('df-12f7b4b9-1749-48ae-bcab-521055873343')\"\n",
              "            title=\"Suggest charts\"\n",
              "            style=\"display:none;\">\n",
              "\n",
              "<svg xmlns=\"http://www.w3.org/2000/svg\" height=\"24px\"viewBox=\"0 0 24 24\"\n",
              "     width=\"24px\">\n",
              "    <g>\n",
              "        <path d=\"M19 3H5c-1.1 0-2 .9-2 2v14c0 1.1.9 2 2 2h14c1.1 0 2-.9 2-2V5c0-1.1-.9-2-2-2zM9 17H7v-7h2v7zm4 0h-2V7h2v10zm4 0h-2v-4h2v4z\"/>\n",
              "    </g>\n",
              "</svg>\n",
              "  </button>\n",
              "\n",
              "<style>\n",
              "  .colab-df-quickchart {\n",
              "      --bg-color: #E8F0FE;\n",
              "      --fill-color: #1967D2;\n",
              "      --hover-bg-color: #E2EBFA;\n",
              "      --hover-fill-color: #174EA6;\n",
              "      --disabled-fill-color: #AAA;\n",
              "      --disabled-bg-color: #DDD;\n",
              "  }\n",
              "\n",
              "  [theme=dark] .colab-df-quickchart {\n",
              "      --bg-color: #3B4455;\n",
              "      --fill-color: #D2E3FC;\n",
              "      --hover-bg-color: #434B5C;\n",
              "      --hover-fill-color: #FFFFFF;\n",
              "      --disabled-bg-color: #3B4455;\n",
              "      --disabled-fill-color: #666;\n",
              "  }\n",
              "\n",
              "  .colab-df-quickchart {\n",
              "    background-color: var(--bg-color);\n",
              "    border: none;\n",
              "    border-radius: 50%;\n",
              "    cursor: pointer;\n",
              "    display: none;\n",
              "    fill: var(--fill-color);\n",
              "    height: 32px;\n",
              "    padding: 0;\n",
              "    width: 32px;\n",
              "  }\n",
              "\n",
              "  .colab-df-quickchart:hover {\n",
              "    background-color: var(--hover-bg-color);\n",
              "    box-shadow: 0 1px 2px rgba(60, 64, 67, 0.3), 0 1px 3px 1px rgba(60, 64, 67, 0.15);\n",
              "    fill: var(--button-hover-fill-color);\n",
              "  }\n",
              "\n",
              "  .colab-df-quickchart-complete:disabled,\n",
              "  .colab-df-quickchart-complete:disabled:hover {\n",
              "    background-color: var(--disabled-bg-color);\n",
              "    fill: var(--disabled-fill-color);\n",
              "    box-shadow: none;\n",
              "  }\n",
              "\n",
              "  .colab-df-spinner {\n",
              "    border: 2px solid var(--fill-color);\n",
              "    border-color: transparent;\n",
              "    border-bottom-color: var(--fill-color);\n",
              "    animation:\n",
              "      spin 1s steps(1) infinite;\n",
              "  }\n",
              "\n",
              "  @keyframes spin {\n",
              "    0% {\n",
              "      border-color: transparent;\n",
              "      border-bottom-color: var(--fill-color);\n",
              "      border-left-color: var(--fill-color);\n",
              "    }\n",
              "    20% {\n",
              "      border-color: transparent;\n",
              "      border-left-color: var(--fill-color);\n",
              "      border-top-color: var(--fill-color);\n",
              "    }\n",
              "    30% {\n",
              "      border-color: transparent;\n",
              "      border-left-color: var(--fill-color);\n",
              "      border-top-color: var(--fill-color);\n",
              "      border-right-color: var(--fill-color);\n",
              "    }\n",
              "    40% {\n",
              "      border-color: transparent;\n",
              "      border-right-color: var(--fill-color);\n",
              "      border-top-color: var(--fill-color);\n",
              "    }\n",
              "    60% {\n",
              "      border-color: transparent;\n",
              "      border-right-color: var(--fill-color);\n",
              "    }\n",
              "    80% {\n",
              "      border-color: transparent;\n",
              "      border-right-color: var(--fill-color);\n",
              "      border-bottom-color: var(--fill-color);\n",
              "    }\n",
              "    90% {\n",
              "      border-color: transparent;\n",
              "      border-bottom-color: var(--fill-color);\n",
              "    }\n",
              "  }\n",
              "</style>\n",
              "\n",
              "  <script>\n",
              "    async function quickchart(key) {\n",
              "      const quickchartButtonEl =\n",
              "        document.querySelector('#' + key + ' button');\n",
              "      quickchartButtonEl.disabled = true;  // To prevent multiple clicks.\n",
              "      quickchartButtonEl.classList.add('colab-df-spinner');\n",
              "      try {\n",
              "        const charts = await google.colab.kernel.invokeFunction(\n",
              "            'suggestCharts', [key], {});\n",
              "      } catch (error) {\n",
              "        console.error('Error during call to suggestCharts:', error);\n",
              "      }\n",
              "      quickchartButtonEl.classList.remove('colab-df-spinner');\n",
              "      quickchartButtonEl.classList.add('colab-df-quickchart-complete');\n",
              "    }\n",
              "    (() => {\n",
              "      let quickchartButtonEl =\n",
              "        document.querySelector('#df-12f7b4b9-1749-48ae-bcab-521055873343 button');\n",
              "      quickchartButtonEl.style.display =\n",
              "        google.colab.kernel.accessAllowed ? 'block' : 'none';\n",
              "    })();\n",
              "  </script>\n",
              "</div>\n",
              "\n",
              "    </div>\n",
              "  </div>\n"
            ],
            "application/vnd.google.colaboratory.intrinsic+json": {
              "type": "dataframe",
              "variable_name": "df",
              "summary": "{\n  \"name\": \"df\",\n  \"rows\": 2615,\n  \"fields\": [\n    {\n      \"column\": \"Profile Name\",\n      \"properties\": {\n        \"dtype\": \"category\",\n        \"num_unique_values\": 9,\n        \"samples\": [\n          \"User 5\",\n          \"User 2\",\n          \"User 7\"\n        ],\n        \"semantic_type\": \"\",\n        \"description\": \"\"\n      }\n    },\n    {\n      \"column\": \"Country Iso Code\",\n      \"properties\": {\n        \"dtype\": \"category\",\n        \"num_unique_values\": 4,\n        \"samples\": [\n          \"CA\",\n          \"FR\",\n          \"AE\"\n        ],\n        \"semantic_type\": \"\",\n        \"description\": \"\"\n      }\n    },\n    {\n      \"column\": \"Device\",\n      \"properties\": {\n        \"dtype\": \"category\",\n        \"num_unique_values\": 6,\n        \"samples\": [\n          \"Device 0\",\n          \"Device 2\",\n          \"Device 5\"\n        ],\n        \"semantic_type\": \"\",\n        \"description\": \"\"\n      }\n    },\n    {\n      \"column\": \"Query Typed\",\n      \"properties\": {\n        \"dtype\": \"category\",\n        \"num_unique_values\": 396,\n        \"samples\": [\n          \"shers\",\n          \"kantara\",\n          \"bev\"\n        ],\n        \"semantic_type\": \"\",\n        \"description\": \"\"\n      }\n    },\n    {\n      \"column\": \"Displayed Name\",\n      \"properties\": {\n        \"dtype\": \"category\",\n        \"num_unique_values\": 812,\n        \"samples\": [\n          \"KD (A) Karuppudurai\",\n          \"Lang Tong\",\n          \"Chandigarh Kare Aashiqui\"\n        ],\n        \"semantic_type\": \"\",\n        \"description\": \"\"\n      }\n    },\n    {\n      \"column\": \"Action\",\n      \"properties\": {\n        \"dtype\": \"category\",\n        \"num_unique_values\": 3,\n        \"samples\": [\n          \"play\",\n          \"select\",\n          \"add\"\n        ],\n        \"semantic_type\": \"\",\n        \"description\": \"\"\n      }\n    },\n    {\n      \"column\": \"Section\",\n      \"properties\": {\n        \"dtype\": \"category\",\n        \"num_unique_values\": 3,\n        \"samples\": [\n          \"prequery_results\",\n          \"title_results\",\n          \"suggestion_results\"\n        ],\n        \"semantic_type\": \"\",\n        \"description\": \"\"\n      }\n    },\n    {\n      \"column\": \"Utc Timestamp\",\n      \"properties\": {\n        \"dtype\": \"date\",\n        \"min\": \"2021-11-26 09:31:39\",\n        \"max\": \"2023-06-17 16:09:16\",\n        \"num_unique_values\": 2514,\n        \"samples\": [\n          \"2021-12-20 07:28:55\",\n          \"2023-04-07 15:12:47\",\n          \"2023-03-20 08:40:14\"\n        ],\n        \"semantic_type\": \"\",\n        \"description\": \"\"\n      }\n    }\n  ]\n}"
            }
          },
          "metadata": {},
          "execution_count": 24
        }
      ]
    },
    {
      "cell_type": "code",
      "source": [
        "print(df['Utc Timestamp'].dt.date.min())\n",
        "print(df['Utc Timestamp'].dt.date.max())"
      ],
      "metadata": {
        "colab": {
          "base_uri": "https://localhost:8080/"
        },
        "id": "9RgyKMTZ0L70",
        "outputId": "8cc54757-67a3-460d-cebf-16ddbf29e85b"
      },
      "execution_count": null,
      "outputs": [
        {
          "output_type": "stream",
          "name": "stdout",
          "text": [
            "2021-11-26\n",
            "2023-06-17\n"
          ]
        }
      ]
    },
    {
      "cell_type": "markdown",
      "source": [
        "- 약 1.5년의 기간의 2,616행의 데이터로 데이터 수가 적고, 트렌드를 파악하기에 부적합하다고 생각됨"
      ],
      "metadata": {
        "id": "aaCClZTS0ZVM"
      }
    },
    {
      "cell_type": "code",
      "source": [
        "for col in df.columns:\n",
        "  print(col, df[col].nunique())"
      ],
      "metadata": {
        "colab": {
          "base_uri": "https://localhost:8080/"
        },
        "id": "-Q0EtW2zpfjk",
        "outputId": "4e1fba28-0124-4ebb-c8d8-39542b1f8d8e"
      },
      "execution_count": null,
      "outputs": [
        {
          "output_type": "stream",
          "name": "stdout",
          "text": [
            "Profile Name 9\n",
            "Country Iso Code 5\n",
            "Device 6\n",
            "Is Kids 1\n",
            "Query Typed 396\n",
            "Displayed Name 812\n",
            "Action 3\n",
            "Section 3\n",
            "Utc Timestamp 2515\n"
          ]
        }
      ]
    },
    {
      "cell_type": "markdown",
      "source": [
        "- 모든 데이터에 대해 값이 동일한 상수 컬럼 Is Kids(어린이 프로필 지표) 컬럼은 정보성이 없는 변수\n",
        "- Timestamp,범주형 변수, 텍스트 변수들로 이루어진 데이터셋"
      ],
      "metadata": {
        "id": "YItp5LKcqvvc"
      }
    },
    {
      "cell_type": "code",
      "source": [
        "# 범주형 변수들의 범주별 빈도수 확인\n",
        "for col in df.drop(['Is Kids','Query Typed','Displayed Name', 'Utc Timestamp'], axis = 1):\n",
        "  print(df[col].value_counts(), '\\n')"
      ],
      "metadata": {
        "colab": {
          "base_uri": "https://localhost:8080/"
        },
        "id": "1d0upDG8smLv",
        "outputId": "8d55f3ec-0590-49a9-b8df-228ef485a8ae"
      },
      "execution_count": null,
      "outputs": [
        {
          "output_type": "stream",
          "name": "stdout",
          "text": [
            "Profile Name\n",
            "User 8    1245\n",
            "User 4     645\n",
            "User 7     327\n",
            "User 6     133\n",
            "User 5      90\n",
            "User 1      78\n",
            "User 2      48\n",
            "User 0      30\n",
            "User 3      20\n",
            "Name: count, dtype: int64 \n",
            "\n",
            "Country Iso Code\n",
            "IN    1985\n",
            "AE     605\n",
            "CA      17\n",
            "FR       8\n",
            "CR       1\n",
            "Name: count, dtype: int64 \n",
            "\n",
            "Device\n",
            "Device 0    2391\n",
            "Device 1     171\n",
            "Device 2      28\n",
            "Device 3      20\n",
            "Device 4       4\n",
            "Device 5       2\n",
            "Name: count, dtype: int64 \n",
            "\n",
            "Action\n",
            "select    1867\n",
            "play       712\n",
            "add         37\n",
            "Name: count, dtype: int64 \n",
            "\n",
            "Section\n",
            "title_results         1865\n",
            "prequery_results       685\n",
            "suggestion_results      66\n",
            "Name: count, dtype: int64 \n",
            "\n"
          ]
        }
      ]
    },
    {
      "cell_type": "markdown",
      "source": [
        "- **사용자 프로필 이름**\n",
        "  - User 0 ~ User 8 총 9가지의 프로필 이름\n",
        "- **Country Iso Code(국가 코드)**\n",
        "  - IN(인도), AE(아랍에미리트), CA(캐나다), FR(프랑스), CR(코스타리카) 총 5개국의 데이터\n",
        "  - CA(캐나다), FR(프랑스), CR(코스타리카)의 경우, 각각 17개, 8개, 1개로 다른 국가코드에 비해 부족한 데이터 수\n",
        "  - IN, AE를 중점적으로 분석하는 것이 유의미한 분석일 것으로 판단\n",
        "- **Device(장치)**\n",
        "  - Device 0 ~ Device 5 총 6가지의 장치\n",
        "  - 불균형한 데이터\n",
        "- **Action(상호작용)**\n",
        "  - 검색 결과에 대한 사용자 상호작용\n",
        "  - select, play, add 3가지 행동으로 구분\n",
        "- **Section(검색결과 생성방법)**\n",
        " - 자동 생성되었는지, 검색 결과를 기반으로 생성되었는지\n",
        " - 약 30:10:1 의 비율로 불균형해보이는 범주형 데이터"
      ],
      "metadata": {
        "id": "-86UN2xqtP6A"
      }
    },
    {
      "cell_type": "code",
      "source": [
        "# 같은 프로필 이름에도 다른 국가일 수 있음\n",
        "df.groupby(['Profile Name', 'Country Iso Code']).size()"
      ],
      "metadata": {
        "colab": {
          "base_uri": "https://localhost:8080/"
        },
        "id": "jH7I6n2m2ReY",
        "outputId": "3f545071-83a1-4e6c-fa85-e166d390f50a"
      },
      "execution_count": null,
      "outputs": [
        {
          "output_type": "execute_result",
          "data": {
            "text/plain": [
              "Profile Name  Country Iso Code\n",
              "User 0        AE                    23\n",
              "              IN                     7\n",
              "User 1        IN                    78\n",
              "User 2        IN                    48\n",
              "User 3        IN                    20\n",
              "User 4        AE                   582\n",
              "              CA                    17\n",
              "              FR                     8\n",
              "              IN                    37\n",
              "User 5        IN                    90\n",
              "User 6        IN                   133\n",
              "User 7        IN                   327\n",
              "User 8        IN                  1245\n",
              "dtype: int64"
            ]
          },
          "metadata": {},
          "execution_count": 30
        }
      ]
    },
    {
      "cell_type": "markdown",
      "source": [
        "# 장치 및 국가별 사용자 행동 패턴 분석\n",
        "---\n",
        "* 1개의 데이터만 가지고 있는 CR(코스타리카) 데이터 확인\n",
        "* Device(플랫폼에 접근한 장치), Country Iso Code(플랫폼에 접근한 국가 코드)"
      ],
      "metadata": {
        "id": "KgnIcK8Oq8XI"
      }
    },
    {
      "cell_type": "code",
      "source": [
        "# 1개의 데이터만 가지고 있는 CR(코스타리카) 데이터 확인\n",
        "df[df['Country Iso Code'] == 'CR']"
      ],
      "metadata": {
        "colab": {
          "base_uri": "https://localhost:8080/",
          "height": 80
        },
        "id": "5O9rpwCbxDgK",
        "outputId": "01727440-204a-4902-e0d2-12c9f102faca"
      },
      "execution_count": null,
      "outputs": [
        {
          "output_type": "execute_result",
          "data": {
            "text/plain": [
              "    Profile Name Country Iso Code    Device  Is Kids Query Typed  \\\n",
              "559       User 4               CR  Device 0        0         NaN   \n",
              "\n",
              "    Displayed Name  Action           Section        Utc Timestamp  \n",
              "559            NaN  select  prequery_results  2022-02-07 03:20:10  "
            ],
            "text/html": [
              "\n",
              "  <div id=\"df-16f5853f-445b-47f5-8ada-f0bf4a3732b0\" class=\"colab-df-container\">\n",
              "    <div>\n",
              "<style scoped>\n",
              "    .dataframe tbody tr th:only-of-type {\n",
              "        vertical-align: middle;\n",
              "    }\n",
              "\n",
              "    .dataframe tbody tr th {\n",
              "        vertical-align: top;\n",
              "    }\n",
              "\n",
              "    .dataframe thead th {\n",
              "        text-align: right;\n",
              "    }\n",
              "</style>\n",
              "<table border=\"1\" class=\"dataframe\">\n",
              "  <thead>\n",
              "    <tr style=\"text-align: right;\">\n",
              "      <th></th>\n",
              "      <th>Profile Name</th>\n",
              "      <th>Country Iso Code</th>\n",
              "      <th>Device</th>\n",
              "      <th>Is Kids</th>\n",
              "      <th>Query Typed</th>\n",
              "      <th>Displayed Name</th>\n",
              "      <th>Action</th>\n",
              "      <th>Section</th>\n",
              "      <th>Utc Timestamp</th>\n",
              "    </tr>\n",
              "  </thead>\n",
              "  <tbody>\n",
              "    <tr>\n",
              "      <th>559</th>\n",
              "      <td>User 4</td>\n",
              "      <td>CR</td>\n",
              "      <td>Device 0</td>\n",
              "      <td>0</td>\n",
              "      <td>NaN</td>\n",
              "      <td>NaN</td>\n",
              "      <td>select</td>\n",
              "      <td>prequery_results</td>\n",
              "      <td>2022-02-07 03:20:10</td>\n",
              "    </tr>\n",
              "  </tbody>\n",
              "</table>\n",
              "</div>\n",
              "    <div class=\"colab-df-buttons\">\n",
              "\n",
              "  <div class=\"colab-df-container\">\n",
              "    <button class=\"colab-df-convert\" onclick=\"convertToInteractive('df-16f5853f-445b-47f5-8ada-f0bf4a3732b0')\"\n",
              "            title=\"Convert this dataframe to an interactive table.\"\n",
              "            style=\"display:none;\">\n",
              "\n",
              "  <svg xmlns=\"http://www.w3.org/2000/svg\" height=\"24px\" viewBox=\"0 -960 960 960\">\n",
              "    <path d=\"M120-120v-720h720v720H120Zm60-500h600v-160H180v160Zm220 220h160v-160H400v160Zm0 220h160v-160H400v160ZM180-400h160v-160H180v160Zm440 0h160v-160H620v160ZM180-180h160v-160H180v160Zm440 0h160v-160H620v160Z\"/>\n",
              "  </svg>\n",
              "    </button>\n",
              "\n",
              "  <style>\n",
              "    .colab-df-container {\n",
              "      display:flex;\n",
              "      gap: 12px;\n",
              "    }\n",
              "\n",
              "    .colab-df-convert {\n",
              "      background-color: #E8F0FE;\n",
              "      border: none;\n",
              "      border-radius: 50%;\n",
              "      cursor: pointer;\n",
              "      display: none;\n",
              "      fill: #1967D2;\n",
              "      height: 32px;\n",
              "      padding: 0 0 0 0;\n",
              "      width: 32px;\n",
              "    }\n",
              "\n",
              "    .colab-df-convert:hover {\n",
              "      background-color: #E2EBFA;\n",
              "      box-shadow: 0px 1px 2px rgba(60, 64, 67, 0.3), 0px 1px 3px 1px rgba(60, 64, 67, 0.15);\n",
              "      fill: #174EA6;\n",
              "    }\n",
              "\n",
              "    .colab-df-buttons div {\n",
              "      margin-bottom: 4px;\n",
              "    }\n",
              "\n",
              "    [theme=dark] .colab-df-convert {\n",
              "      background-color: #3B4455;\n",
              "      fill: #D2E3FC;\n",
              "    }\n",
              "\n",
              "    [theme=dark] .colab-df-convert:hover {\n",
              "      background-color: #434B5C;\n",
              "      box-shadow: 0px 1px 3px 1px rgba(0, 0, 0, 0.15);\n",
              "      filter: drop-shadow(0px 1px 2px rgba(0, 0, 0, 0.3));\n",
              "      fill: #FFFFFF;\n",
              "    }\n",
              "  </style>\n",
              "\n",
              "    <script>\n",
              "      const buttonEl =\n",
              "        document.querySelector('#df-16f5853f-445b-47f5-8ada-f0bf4a3732b0 button.colab-df-convert');\n",
              "      buttonEl.style.display =\n",
              "        google.colab.kernel.accessAllowed ? 'block' : 'none';\n",
              "\n",
              "      async function convertToInteractive(key) {\n",
              "        const element = document.querySelector('#df-16f5853f-445b-47f5-8ada-f0bf4a3732b0');\n",
              "        const dataTable =\n",
              "          await google.colab.kernel.invokeFunction('convertToInteractive',\n",
              "                                                    [key], {});\n",
              "        if (!dataTable) return;\n",
              "\n",
              "        const docLinkHtml = 'Like what you see? Visit the ' +\n",
              "          '<a target=\"_blank\" href=https://colab.research.google.com/notebooks/data_table.ipynb>data table notebook</a>'\n",
              "          + ' to learn more about interactive tables.';\n",
              "        element.innerHTML = '';\n",
              "        dataTable['output_type'] = 'display_data';\n",
              "        await google.colab.output.renderOutput(dataTable, element);\n",
              "        const docLink = document.createElement('div');\n",
              "        docLink.innerHTML = docLinkHtml;\n",
              "        element.appendChild(docLink);\n",
              "      }\n",
              "    </script>\n",
              "  </div>\n",
              "\n",
              "\n",
              "    </div>\n",
              "  </div>\n"
            ],
            "application/vnd.google.colaboratory.intrinsic+json": {
              "type": "dataframe",
              "repr_error": "0"
            }
          },
          "metadata": {},
          "execution_count": 14
        }
      ]
    },
    {
      "cell_type": "markdown",
      "source": [
        "- 검색 텍스트는 모두 없음\n",
        "- 다른 범주형 데이터(Profile Name, Device, Action, Section)에 대해서도 상위 첫번째, 두번째로 많은 빈도 수를 보이는 범주에 포함\n",
        "- 삭제해도 무방하다고 판단"
      ],
      "metadata": {
        "id": "TODLCR8TxLi6"
      }
    },
    {
      "cell_type": "code",
      "source": [
        "# 정보성 없는 데이터 삭제\n",
        "df.drop(df[df['Country Iso Code'] == 'CR'].index, inplace=True) # 국가 코드가 코스타리카인 데이터 행 삭제\n",
        "df.drop(['Is Kids'], axis = 1, inplace=True) # 상수 컬럼\n",
        "df.reset_index(drop=True, inplace = True)"
      ],
      "metadata": {
        "id": "M5e6-JCQx6ST"
      },
      "execution_count": null,
      "outputs": []
    },
    {
      "cell_type": "markdown",
      "source": [
        "## 국가별 Action, Section 시각화"
      ],
      "metadata": {
        "id": "DOU3kCOJ2r0k"
      }
    },
    {
      "cell_type": "markdown",
      "source": [
        "> 국가별 장치별 빈도수\n",
        "\n",
        "```\n",
        "인도(IN) 외의 국가들은 모두 Device 0 장치를 통해 플랫폼 접근\n",
        "```\n",
        "\n",
        "> 국가별 Action, Section 시각화\n",
        "\n",
        "```\n",
        "1. Action, Section별 빈도수 계산 후 시각화(데이터 수 많은 국가 순으로 보이도록)\n",
        "2. 행별로 국가 구분하여 시각화(즉, 행의 수 = 국가의 수)\n",
        "```\n",
        "\n",
        "> 장치별 Action, Section 시각화\n",
        "\n",
        "```\n",
        "모두 인도(IN)에서 발생한 데이터임을 감안하고 분석\n",
        "```"
      ],
      "metadata": {
        "id": "hVCshg8DErV2"
      }
    },
    {
      "cell_type": "code",
      "source": [
        "df.groupby(['Country Iso Code','Device']).size() # 국가별 장치별 빈도수 : IN(인도) 외의 국가들은 모두 Device 0 장치를 통해 플랫폼 접근"
      ],
      "metadata": {
        "colab": {
          "base_uri": "https://localhost:8080/"
        },
        "id": "6fOt9zcXyvjE",
        "outputId": "7c856d2e-97da-4f2a-9087-99f9236a9069"
      },
      "execution_count": null,
      "outputs": [
        {
          "output_type": "execute_result",
          "data": {
            "text/plain": [
              "Country Iso Code  Device  \n",
              "AE                Device 0     605\n",
              "CA                Device 0      17\n",
              "FR                Device 0       8\n",
              "IN                Device 0    1760\n",
              "                  Device 1     171\n",
              "                  Device 2      28\n",
              "                  Device 3      20\n",
              "                  Device 4       4\n",
              "                  Device 5       2\n",
              "dtype: int64"
            ]
          },
          "metadata": {},
          "execution_count": 34
        }
      ]
    },
    {
      "cell_type": "code",
      "source": [
        "# 국가만 구분해서 분석 - 국가별 특징 발견이 되면, 장치 구분은 무의미함(인도가 다른 종류의 장치 데이터를 가지고 있는데, 국가별로 사용자 행동의 특징 구분이 된다고 하면..)\n",
        "\n",
        "# Action, Section별 빈도수 계산 후 시각화\n",
        "frequency_action = df.groupby(['Country Iso Code', 'Action']).size().reset_index(name='Count')\n",
        "frequency_section = df.groupby(['Country Iso Code', 'Section']).size().reset_index(name='Count')\n",
        "\n",
        "# 국가별 데이터 수 계산 및 내림차순 정렬\n",
        "sorted_countries = df['Country Iso Code'].value_counts().index.tolist()\n",
        "\n",
        "# 국가별 색깔 구분\n",
        "palette = sns.color_palette(\"husl\", len(sorted_countries))\n",
        "country_color_map = dict(zip(sorted_countries, palette))\n",
        "\n",
        "fig, axes = plt.subplots(len(sorted_countries), 2, figsize=(14, 5 * len(sorted_countries))) # 서브플롯 설정 (행: 국가 코드 수, 열: 2)\n",
        "\n",
        "for i, country in enumerate(sorted_countries):\n",
        "    # Action 빈도수 플롯\n",
        "    sns.barplot(\n",
        "        data=frequency_action[frequency_action['Country Iso Code'] == country], x='Action', y='Count', palette=[country_color_map[country]],ax=axes[i, 0]\n",
        "        ).set(title=f'{country} - Action')\n",
        "    axes[i, 0].set_xlabel('Action')\n",
        "    axes[i, 0].set_ylabel('Count')\n",
        "\n",
        "    # Section 빈도수 플롯\n",
        "    sns.barplot(\n",
        "        data=frequency_section[frequency_section['Country Iso Code'] == country], x='Section', y='Count', palette=[country_color_map[country]], ax=axes[i, 1]\n",
        "        ).set(title=f'{country} - Section')\n",
        "    axes[i, 1].set_xlabel('Section')\n",
        "    axes[i, 1].set_ylabel('Count')\n",
        "\n",
        "# 레이아웃 조정\n",
        "plt.tight_layout()\n",
        "plt.show()"
      ],
      "metadata": {
        "colab": {
          "base_uri": "https://localhost:8080/",
          "height": 1000
        },
        "id": "qj5saJWIplxL",
        "outputId": "9bdc32e3-8d67-477d-8a8a-8a46715eb9dd"
      },
      "execution_count": null,
      "outputs": [
        {
          "output_type": "display_data",
          "data": {
            "text/plain": [
              "<Figure size 1400x2000 with 8 Axes>"
            ],
            "image/png": "[encoded data removed]"
          },
          "metadata": {}
        }
      ]
    },
    {
      "cell_type": "markdown",
      "source": [
        "- 프랑스(FR)와 캐나다(CA)의 데이터수는 매우 적기 때문에, 행동 패턴에 대한 인사이트는 얻기 어렵고 참고용으로만 확인.\n",
        "- 가장 많은 데이터 수를 가지고 있는 인도(IN)의 경우, 대부분 title_results 기반으로 결과가 생성되지만, 다른 국가들은 모두 prequery_results 기반으로 결과가 생성되는 행동 패턴이 확인됨.\n",
        "- 검색과 상호작용 간의 관계 분석을 통해 해당 패턴에 대한 인사이트 발굴"
      ],
      "metadata": {
        "id": "mpqHIa5S9AZV"
      }
    },
    {
      "cell_type": "markdown",
      "source": [
        "## 장치별 Action, Section 시각화\n",
        "---\n",
        "- Device 0 외의 장치들은 모두 인도(IN)에서 발생한 데이터임을 감안"
      ],
      "metadata": {
        "id": "TgkNfcX7GrcA"
      }
    },
    {
      "cell_type": "code",
      "source": [
        "#장치별 Action, Section 시각화\n",
        "frequency_action = df.groupby(['Device', 'Action']).size().reset_index(name='Count')\n",
        "frequency_section = df.groupby(['Device', 'Section']).size().reset_index(name='Count')\n",
        "\n",
        "plt.figure(figsize=(12, 5))\n",
        "plt.subplot(1, 2, 1)\n",
        "sns.barplot(data=frequency_action, x='Device', y='Count', hue='Action', palette='viridis').set(title='Action Frequency by Device', xlabel='Device', ylabel='Count')\n",
        "\n",
        "plt.subplot(1, 2, 2)\n",
        "sns.barplot(data=frequency_section, x='Device', y='Count', hue='Section', palette='flare').set(title='Section Frequency by Device', xlabel='Device', ylabel='Count')\n",
        "\n",
        "plt.tight_layout()\n",
        "plt.show()"
      ],
      "metadata": {
        "colab": {
          "base_uri": "https://localhost:8080/",
          "height": 467
        },
        "id": "QIDFi3tvHo8T",
        "outputId": "201b61ca-8686-4146-cb0f-e9717c98eb39"
      },
      "execution_count": null,
      "outputs": [
        {
          "output_type": "display_data",
          "data": {
            "text/plain": [
              "<Figure size 1200x500 with 2 Axes>"
            ],
            "image/png": "[encoded data removed]"
          },
          "metadata": {}
        }
      ]
    },
    {
      "cell_type": "code",
      "source": [
        "# Device 0 장치 제외 시각화\n",
        "tmp = df.drop(df[df['Device'] == 'Device 0'].index)\n",
        "\n",
        "frequency_action = tmp.groupby(['Device', 'Action']).size().reset_index(name='Count').sort_values(by=['Device','Count'])\n",
        "frequency_section = tmp.groupby(['Device', 'Section']).size().reset_index(name='Count').sort_values(by=['Device','Count'])\n",
        "\n",
        "plt.figure(figsize=(12, 5))\n",
        "plt.subplot(1, 2, 1)\n",
        "sns.barplot(data=frequency_action, x='Device', y='Count', hue='Action', palette='viridis').set(title='Action Frequency by Device', xlabel='Device', ylabel='Count')\n",
        "\n",
        "plt.subplot(1, 2, 2)\n",
        "sns.barplot(data=frequency_section, x='Device', y='Count', hue='Section', palette='flare').set(title='Section Frequency by Device', xlabel='Device', ylabel='Count')\n",
        "\n",
        "plt.tight_layout()\n",
        "plt.show()"
      ],
      "metadata": {
        "colab": {
          "base_uri": "https://localhost:8080/",
          "height": 467
        },
        "id": "-gx-SczkIkds",
        "outputId": "a840f0fc-a915-4fbc-fa84-5cae8c38fe76"
      },
      "execution_count": null,
      "outputs": [
        {
          "output_type": "display_data",
          "data": {
            "text/plain": [
              "<Figure size 1200x500 with 2 Axes>"
            ],
            "image/png": "[encoded data removed]"
          },
          "metadata": {}
        }
      ]
    },
    {
      "cell_type": "markdown",
      "source": [
        "- Device 0 외의 장치들은 모두 인도(IN)에서 발생한 데이터임을 감안\n",
        "- Action(검색 결과에 대한 사용자 상호작용)\n",
        "  - 다른 장치들과 비교해봤을 때, Device 3 장치의 경우, add 상호작용이 발생하는 편임이 확인됨\n",
        "  - 전반적으로 select가 play 발생 빈도보다 높은 경향을 보이나, Device 4 장치에서는 비슷한 빈도로 발생함\n",
        "- Section(결과가 검색 결과를 기반으로 생성되었는지, 자동 생성되었는지 여부)\n",
        "  - suggestion_results를 기반으로 결과를 생성하는 행동은, Device 1 외의 장치에서 거의 발생하지 않음\n",
        "  - 대부분 title_results를 기반으로 결과가 생성되지만, 이는 모두 인도(IN)에서 발생한 데이터여서 발생한 현상일 수 있음"
      ],
      "metadata": {
        "id": "64u7gluoJTnx"
      }
    },
    {
      "cell_type": "markdown",
      "source": [
        "# 검색과 상호작용 간 관계 분석\n",
        "---\n",
        "1) 텍스트 데이터(Query Typed, Displayed Name)가 NA인것과 아닌것 구분해서 변수별 관계 분석\n",
        "  - Group 변수 생성 : 두 컬럼의 NA 유무 구분에 따라 총 4개의 그룹으로 분류\n",
        "    - A: 둘다 결측 X\n",
        "    - B: 표시텍스트(Displayed Name)만 결측\n",
        "    - C: 검색텍스트(Query Typed)만 결측\n",
        "    - D: 둘다 결측\n",
        "  - Country Iso Code, Device, Action, Section 4가지 범주형 변수와 Group 변수와의 관계를 확인\n",
        "  - 범주형 변수 내 불균형이 심한 것을 고려하여, 각 범주 내의 비율로 시각화\n",
        "    - Country Iso Code : 대부분이 IN(인도) 데이터\n",
        "    - Device : 대부분이 Device 0이며, 다른 장치 데이터가 있는 국가는 IN(인도) 뿐임\n",
        "    - Action : 대부분 select\n",
        "    - Section : 대부분 title_results\n",
        "\n",
        "2) 주요 키워드 추출 : 검색 데이터(Query Typed) 활용"
      ],
      "metadata": {
        "id": "F3-52vaKzSSR"
      }
    },
    {
      "cell_type": "markdown",
      "source": [
        "## NA 유무 구분에 따른 분석\n",
        "---\n",
        "- A그룹 多: **검색**을 통한 이용을 선호한다고 볼 수 있다.\n",
        "- D그룹 多: **자동 생성**되는 기능에 대한 이용도가 높다고 볼 수 있다.\n",
        "- B그룹(표시텍스트 결측), C그룹(검색텍스트 결측) 빈도수 비교\n",
        "  - B그룹이 C그룹에 비해 검색 기능 이용도가 높다고 해석 가능\n",
        "  - A,B그룹 - **검색** 기능 이용도가 높음\n",
        "  - C,D그룹 - **자동 생성**되는 기능에 대한 이용도가 높음\n",
        "\n"
      ],
      "metadata": {
        "id": "FLQZ43n4Osd1"
      }
    },
    {
      "cell_type": "code",
      "source": [
        "# Query Typed, Displayed Name 컬럼 - NA 유무에 따른 범주형 변수 생성\n",
        "# 플랫폼에서 검색한 테스트, 검색결과에 표시된 텍스트 모두 NA : 클릭으로만 이루어진 결과?\n",
        "df['Query Typed NA'] = df['Query Typed'].isna().map({True: 'NA', False: 'Not NA'})\n",
        "df['Displayed Name NA'] = df['Displayed Name'].isna().map({True: 'NA', False: 'Not NA'})"
      ],
      "metadata": {
        "id": "RW7M5CDKB2tN"
      },
      "execution_count": null,
      "outputs": []
    },
    {
      "cell_type": "code",
      "source": [
        "# Query Typed NA와 Displayed Name NA에 따라 그룹 A, B, C, D 분류\n",
        "conditions = [\n",
        "    (df['Query Typed NA'] == 'Not NA') & (df['Displayed Name NA'] == 'Not NA'),\n",
        "    (df['Query Typed NA'] == 'Not NA') & (df['Displayed Name NA'] == 'NA'),\n",
        "    (df['Query Typed NA'] == 'NA') & (df['Displayed Name NA'] == 'Not NA'),\n",
        "    (df['Query Typed NA'] == 'NA') & (df['Displayed Name NA'] == 'NA')\n",
        "    ]\n",
        "\n",
        "choices = ['A', 'B', 'C', 'D']\n",
        "df['Group'] = np.select(conditions, choices, default='Unknown')\n",
        "\n",
        "df.groupby(['Group','Query Typed NA','Displayed Name NA']).size().reset_index(name='Count')"
      ],
      "metadata": {
        "colab": {
          "base_uri": "https://localhost:8080/",
          "height": 174
        },
        "id": "85OzV-L-TImh",
        "outputId": "658145a5-99c1-4503-f280-8800bfc63962"
      },
      "execution_count": null,
      "outputs": [
        {
          "output_type": "execute_result",
          "data": {
            "text/plain": [
              "  Group Query Typed NA Displayed Name NA  Count\n",
              "0     A         Not NA            Not NA   1401\n",
              "1     B         Not NA                NA    488\n",
              "2     C             NA            Not NA    397\n",
              "3     D             NA                NA    329"
            ],
            "text/html": [
              "\n",
              "  <div id=\"df-e01c8585-7601-4b73-9be5-f624f6d3249f\" class=\"colab-df-container\">\n",
              "    <div>\n",
              "<style scoped>\n",
              "    .dataframe tbody tr th:only-of-type {\n",
              "        vertical-align: middle;\n",
              "    }\n",
              "\n",
              "    .dataframe tbody tr th {\n",
              "        vertical-align: top;\n",
              "    }\n",
              "\n",
              "    .dataframe thead th {\n",
              "        text-align: right;\n",
              "    }\n",
              "</style>\n",
              "<table border=\"1\" class=\"dataframe\">\n",
              "  <thead>\n",
              "    <tr style=\"text-align: right;\">\n",
              "      <th></th>\n",
              "      <th>Group</th>\n",
              "      <th>Query Typed NA</th>\n",
              "      <th>Displayed Name NA</th>\n",
              "      <th>Count</th>\n",
              "    </tr>\n",
              "  </thead>\n",
              "  <tbody>\n",
              "    <tr>\n",
              "      <th>0</th>\n",
              "      <td>A</td>\n",
              "      <td>Not NA</td>\n",
              "      <td>Not NA</td>\n",
              "      <td>1401</td>\n",
              "    </tr>\n",
              "    <tr>\n",
              "      <th>1</th>\n",
              "      <td>B</td>\n",
              "      <td>Not NA</td>\n",
              "      <td>NA</td>\n",
              "      <td>488</td>\n",
              "    </tr>\n",
              "    <tr>\n",
              "      <th>2</th>\n",
              "      <td>C</td>\n",
              "      <td>NA</td>\n",
              "      <td>Not NA</td>\n",
              "      <td>397</td>\n",
              "    </tr>\n",
              "    <tr>\n",
              "      <th>3</th>\n",
              "      <td>D</td>\n",
              "      <td>NA</td>\n",
              "      <td>NA</td>\n",
              "      <td>329</td>\n",
              "    </tr>\n",
              "  </tbody>\n",
              "</table>\n",
              "</div>\n",
              "    <div class=\"colab-df-buttons\">\n",
              "\n",
              "  <div class=\"colab-df-container\">\n",
              "    <button class=\"colab-df-convert\" onclick=\"convertToInteractive('df-e01c8585-7601-4b73-9be5-f624f6d3249f')\"\n",
              "            title=\"Convert this dataframe to an interactive table.\"\n",
              "            style=\"display:none;\">\n",
              "\n",
              "  <svg xmlns=\"http://www.w3.org/2000/svg\" height=\"24px\" viewBox=\"0 -960 960 960\">\n",
              "    <path d=\"M120-120v-720h720v720H120Zm60-500h600v-160H180v160Zm220 220h160v-160H400v160Zm0 220h160v-160H400v160ZM180-400h160v-160H180v160Zm440 0h160v-160H620v160ZM180-180h160v-160H180v160Zm440 0h160v-160H620v160Z\"/>\n",
              "  </svg>\n",
              "    </button>\n",
              "\n",
              "  <style>\n",
              "    .colab-df-container {\n",
              "      display:flex;\n",
              "      gap: 12px;\n",
              "    }\n",
              "\n",
              "    .colab-df-convert {\n",
              "      background-color: #E8F0FE;\n",
              "      border: none;\n",
              "      border-radius: 50%;\n",
              "      cursor: pointer;\n",
              "      display: none;\n",
              "      fill: #1967D2;\n",
              "      height: 32px;\n",
              "      padding: 0 0 0 0;\n",
              "      width: 32px;\n",
              "    }\n",
              "\n",
              "    .colab-df-convert:hover {\n",
              "      background-color: #E2EBFA;\n",
              "      box-shadow: 0px 1px 2px rgba(60, 64, 67, 0.3), 0px 1px 3px 1px rgba(60, 64, 67, 0.15);\n",
              "      fill: #174EA6;\n",
              "    }\n",
              "\n",
              "    .colab-df-buttons div {\n",
              "      margin-bottom: 4px;\n",
              "    }\n",
              "\n",
              "    [theme=dark] .colab-df-convert {\n",
              "      background-color: #3B4455;\n",
              "      fill: #D2E3FC;\n",
              "    }\n",
              "\n",
              "    [theme=dark] .colab-df-convert:hover {\n",
              "      background-color: #434B5C;\n",
              "      box-shadow: 0px 1px 3px 1px rgba(0, 0, 0, 0.15);\n",
              "      filter: drop-shadow(0px 1px 2px rgba(0, 0, 0, 0.3));\n",
              "      fill: #FFFFFF;\n",
              "    }\n",
              "  </style>\n",
              "\n",
              "    <script>\n",
              "      const buttonEl =\n",
              "        document.querySelector('#df-e01c8585-7601-4b73-9be5-f624f6d3249f button.colab-df-convert');\n",
              "      buttonEl.style.display =\n",
              "        google.colab.kernel.accessAllowed ? 'block' : 'none';\n",
              "\n",
              "      async function convertToInteractive(key) {\n",
              "        const element = document.querySelector('#df-e01c8585-7601-4b73-9be5-f624f6d3249f');\n",
              "        const dataTable =\n",
              "          await google.colab.kernel.invokeFunction('convertToInteractive',\n",
              "                                                    [key], {});\n",
              "        if (!dataTable) return;\n",
              "\n",
              "        const docLinkHtml = 'Like what you see? Visit the ' +\n",
              "          '<a target=\"_blank\" href=https://colab.research.google.com/notebooks/data_table.ipynb>data table notebook</a>'\n",
              "          + ' to learn more about interactive tables.';\n",
              "        element.innerHTML = '';\n",
              "        dataTable['output_type'] = 'display_data';\n",
              "        await google.colab.output.renderOutput(dataTable, element);\n",
              "        const docLink = document.createElement('div');\n",
              "        docLink.innerHTML = docLinkHtml;\n",
              "        element.appendChild(docLink);\n",
              "      }\n",
              "    </script>\n",
              "  </div>\n",
              "\n",
              "\n",
              "<div id=\"df-f6afef07-5816-4529-b360-d613532c8388\">\n",
              "  <button class=\"colab-df-quickchart\" onclick=\"quickchart('df-f6afef07-5816-4529-b360-d613532c8388')\"\n",
              "            title=\"Suggest charts\"\n",
              "            style=\"display:none;\">\n",
              "\n",
              "<svg xmlns=\"http://www.w3.org/2000/svg\" height=\"24px\"viewBox=\"0 0 24 24\"\n",
              "     width=\"24px\">\n",
              "    <g>\n",
              "        <path d=\"M19 3H5c-1.1 0-2 .9-2 2v14c0 1.1.9 2 2 2h14c1.1 0 2-.9 2-2V5c0-1.1-.9-2-2-2zM9 17H7v-7h2v7zm4 0h-2V7h2v10zm4 0h-2v-4h2v4z\"/>\n",
              "    </g>\n",
              "</svg>\n",
              "  </button>\n",
              "\n",
              "<style>\n",
              "  .colab-df-quickchart {\n",
              "      --bg-color: #E8F0FE;\n",
              "      --fill-color: #1967D2;\n",
              "      --hover-bg-color: #E2EBFA;\n",
              "      --hover-fill-color: #174EA6;\n",
              "      --disabled-fill-color: #AAA;\n",
              "      --disabled-bg-color: #DDD;\n",
              "  }\n",
              "\n",
              "  [theme=dark] .colab-df-quickchart {\n",
              "      --bg-color: #3B4455;\n",
              "      --fill-color: #D2E3FC;\n",
              "      --hover-bg-color: #434B5C;\n",
              "      --hover-fill-color: #FFFFFF;\n",
              "      --disabled-bg-color: #3B4455;\n",
              "      --disabled-fill-color: #666;\n",
              "  }\n",
              "\n",
              "  .colab-df-quickchart {\n",
              "    background-color: var(--bg-color);\n",
              "    border: none;\n",
              "    border-radius: 50%;\n",
              "    cursor: pointer;\n",
              "    display: none;\n",
              "    fill: var(--fill-color);\n",
              "    height: 32px;\n",
              "    padding: 0;\n",
              "    width: 32px;\n",
              "  }\n",
              "\n",
              "  .colab-df-quickchart:hover {\n",
              "    background-color: var(--hover-bg-color);\n",
              "    box-shadow: 0 1px 2px rgba(60, 64, 67, 0.3), 0 1px 3px 1px rgba(60, 64, 67, 0.15);\n",
              "    fill: var(--button-hover-fill-color);\n",
              "  }\n",
              "\n",
              "  .colab-df-quickchart-complete:disabled,\n",
              "  .colab-df-quickchart-complete:disabled:hover {\n",
              "    background-color: var(--disabled-bg-color);\n",
              "    fill: var(--disabled-fill-color);\n",
              "    box-shadow: none;\n",
              "  }\n",
              "\n",
              "  .colab-df-spinner {\n",
              "    border: 2px solid var(--fill-color);\n",
              "    border-color: transparent;\n",
              "    border-bottom-color: var(--fill-color);\n",
              "    animation:\n",
              "      spin 1s steps(1) infinite;\n",
              "  }\n",
              "\n",
              "  @keyframes spin {\n",
              "    0% {\n",
              "      border-color: transparent;\n",
              "      border-bottom-color: var(--fill-color);\n",
              "      border-left-color: var(--fill-color);\n",
              "    }\n",
              "    20% {\n",
              "      border-color: transparent;\n",
              "      border-left-color: var(--fill-color);\n",
              "      border-top-color: var(--fill-color);\n",
              "    }\n",
              "    30% {\n",
              "      border-color: transparent;\n",
              "      border-left-color: var(--fill-color);\n",
              "      border-top-color: var(--fill-color);\n",
              "      border-right-color: var(--fill-color);\n",
              "    }\n",
              "    40% {\n",
              "      border-color: transparent;\n",
              "      border-right-color: var(--fill-color);\n",
              "      border-top-color: var(--fill-color);\n",
              "    }\n",
              "    60% {\n",
              "      border-color: transparent;\n",
              "      border-right-color: var(--fill-color);\n",
              "    }\n",
              "    80% {\n",
              "      border-color: transparent;\n",
              "      border-right-color: var(--fill-color);\n",
              "      border-bottom-color: var(--fill-color);\n",
              "    }\n",
              "    90% {\n",
              "      border-color: transparent;\n",
              "      border-bottom-color: var(--fill-color);\n",
              "    }\n",
              "  }\n",
              "</style>\n",
              "\n",
              "  <script>\n",
              "    async function quickchart(key) {\n",
              "      const quickchartButtonEl =\n",
              "        document.querySelector('#' + key + ' button');\n",
              "      quickchartButtonEl.disabled = true;  // To prevent multiple clicks.\n",
              "      quickchartButtonEl.classList.add('colab-df-spinner');\n",
              "      try {\n",
              "        const charts = await google.colab.kernel.invokeFunction(\n",
              "            'suggestCharts', [key], {});\n",
              "      } catch (error) {\n",
              "        console.error('Error during call to suggestCharts:', error);\n",
              "      }\n",
              "      quickchartButtonEl.classList.remove('colab-df-spinner');\n",
              "      quickchartButtonEl.classList.add('colab-df-quickchart-complete');\n",
              "    }\n",
              "    (() => {\n",
              "      let quickchartButtonEl =\n",
              "        document.querySelector('#df-f6afef07-5816-4529-b360-d613532c8388 button');\n",
              "      quickchartButtonEl.style.display =\n",
              "        google.colab.kernel.accessAllowed ? 'block' : 'none';\n",
              "    })();\n",
              "  </script>\n",
              "</div>\n",
              "\n",
              "    </div>\n",
              "  </div>\n"
            ],
            "application/vnd.google.colaboratory.intrinsic+json": {
              "type": "dataframe",
              "summary": "{\n  \"name\": \"df\",\n  \"rows\": 4,\n  \"fields\": [\n    {\n      \"column\": \"Group\",\n      \"properties\": {\n        \"dtype\": \"string\",\n        \"num_unique_values\": 4,\n        \"samples\": [\n          \"B\",\n          \"D\",\n          \"A\"\n        ],\n        \"semantic_type\": \"\",\n        \"description\": \"\"\n      }\n    },\n    {\n      \"column\": \"Query Typed NA\",\n      \"properties\": {\n        \"dtype\": \"string\",\n        \"num_unique_values\": 2,\n        \"samples\": [\n          \"NA\",\n          \"Not NA\"\n        ],\n        \"semantic_type\": \"\",\n        \"description\": \"\"\n      }\n    },\n    {\n      \"column\": \"Displayed Name NA\",\n      \"properties\": {\n        \"dtype\": \"string\",\n        \"num_unique_values\": 2,\n        \"samples\": [\n          \"NA\",\n          \"Not NA\"\n        ],\n        \"semantic_type\": \"\",\n        \"description\": \"\"\n      }\n    },\n    {\n      \"column\": \"Count\",\n      \"properties\": {\n        \"dtype\": \"number\",\n        \"std\": 502,\n        \"min\": 329,\n        \"max\": 1401,\n        \"num_unique_values\": 4,\n        \"samples\": [\n          488,\n          329\n        ],\n        \"semantic_type\": \"\",\n        \"description\": \"\"\n      }\n    }\n  ]\n}"
            }
          },
          "metadata": {},
          "execution_count": 96
        }
      ]
    },
    {
      "cell_type": "code",
      "source": [
        "# Country Iso Code별 시각화\n",
        "group_counts = df.groupby(['Country Iso Code', 'Group']).size().unstack(fill_value=0)\n",
        "group_percentages = group_counts.div(group_counts.sum(axis=1), axis=0) * 100\n",
        "\n",
        "# 시각화\n",
        "plt.figure(figsize=(12, 8))\n",
        "\n",
        "# 비율 그래프 그리기\n",
        "bars = group_percentages.plot(kind='bar', stacked=True, alpha=0.8, ax=plt.subplot(212))\n",
        "plt.title('Group Percentages by Country Iso Code')\n",
        "plt.xlabel('Country Iso Code')\n",
        "plt.ylabel('Percentage')\n",
        "plt.xticks(rotation=0)\n",
        "plt.legend(title='Group')"
      ],
      "metadata": {
        "colab": {
          "base_uri": "https://localhost:8080/",
          "height": 400
        },
        "id": "q8_ISgMyOiL7",
        "outputId": "a06e5fab-acd1-48f0-c4e3-481b310a1d15"
      },
      "execution_count": null,
      "outputs": [
        {
          "output_type": "execute_result",
          "data": {
            "text/plain": [
              "<matplotlib.legend.Legend at 0x7ab0c0a37730>"
            ]
          },
          "metadata": {},
          "execution_count": 109
        },
        {
          "output_type": "display_data",
          "data": {
            "text/plain": [
              "<Figure size 1200x800 with 1 Axes>"
            ],
            "image/png": "[encoded data removed]"
          },
          "metadata": {}
        }
      ]
    },
    {
      "cell_type": "markdown",
      "source": [
        "- 가장 많은 데이터수를 가지고 있는 IN(인도)는 대부분 A그룹(둘다 결측 X)\n",
        "- 다른 국가들은 대부분 D그룹(둘다 결측)인 것이 보임"
      ],
      "metadata": {
        "id": "-NcC7N_kcfqr"
      }
    },
    {
      "cell_type": "code",
      "source": [
        "# Device별 시각화\n",
        "group_counts = df.groupby(['Device', 'Group']).size().unstack(fill_value=0)\n",
        "group_percentages = group_counts.div(group_counts.sum(axis=1), axis=0) * 100\n",
        "\n",
        "# 시각화\n",
        "plt.figure(figsize=(12, 8))\n",
        "\n",
        "# 비율 그래프 그리기\n",
        "bars = group_percentages.plot(kind='bar', stacked=True, alpha=0.8, ax=plt.subplot(212))\n",
        "plt.title('Group Percentages by Device')\n",
        "plt.xlabel('Device')\n",
        "plt.ylabel('Percentage')\n",
        "plt.xticks(rotation=0)\n",
        "plt.legend(title='Group')"
      ],
      "metadata": {
        "colab": {
          "base_uri": "https://localhost:8080/",
          "height": 400
        },
        "id": "5q5deUiyOiH4",
        "outputId": "f2b7cdd3-60b5-478b-dc46-6236c5afc66b"
      },
      "execution_count": null,
      "outputs": [
        {
          "output_type": "execute_result",
          "data": {
            "text/plain": [
              "<matplotlib.legend.Legend at 0x7ab0c0970b80>"
            ]
          },
          "metadata": {},
          "execution_count": 113
        },
        {
          "output_type": "display_data",
          "data": {
            "text/plain": [
              "<Figure size 1200x800 with 1 Axes>"
            ],
            "image/png": "[encoded data removed]"
          },
          "metadata": {}
        }
      ]
    },
    {
      "cell_type": "markdown",
      "source": [
        "- Device 0 외의 장치들 모두 IN(인도) 데이터 이므로, 위에서 시각화한 IN(인도) 데이터 내 Group별 빈도수와 비슷한 양상을 보임\n",
        "- Device(장치) 구분에 따른 Group 빈도수 차이를 판단하기 어려움\n",
        "- 대부분 인도(IN) 데이터이므로, A그룹이 대다수일 것을 고려하여 이후 분석 과정에서는 인도를 제외하고 진행 과정 추가(변수들과 group 관계를 상세히 보기 위함)"
      ],
      "metadata": {
        "id": "wRF-Zql5cjl3"
      }
    },
    {
      "cell_type": "code",
      "source": [
        "df_else = df.drop(df[df['Country Iso Code']== 'IN'].index) # 인도 제외 데이터"
      ],
      "metadata": {
        "id": "MJwb5F2yhzQO"
      },
      "execution_count": null,
      "outputs": []
    },
    {
      "cell_type": "code",
      "source": [
        "# Action별 시각화(인도 포함)\n",
        "group_counts = df.groupby(['Action', 'Group']).size().unstack(fill_value=0)\n",
        "group_percentages = group_counts.div(group_counts.sum(axis=1), axis=0) * 100\n",
        "\n",
        "# 시각화\n",
        "plt.figure(figsize=(12, 8))\n",
        "\n",
        "# 비율 그래프 그리기\n",
        "bars = group_percentages.plot(kind='bar', stacked=True, alpha=0.8, ax=plt.subplot(212))\n",
        "plt.title('Group Percentages by Action')\n",
        "plt.xlabel('Action')\n",
        "plt.ylabel('Percentage')\n",
        "plt.xticks(rotation=0)\n",
        "plt.legend(title='Group')"
      ],
      "metadata": {
        "colab": {
          "base_uri": "https://localhost:8080/",
          "height": 400
        },
        "id": "PzxYR9iwWUb5",
        "outputId": "ce562518-00a9-4e43-96b7-ba552cb10955"
      },
      "execution_count": null,
      "outputs": [
        {
          "output_type": "execute_result",
          "data": {
            "text/plain": [
              "<matplotlib.legend.Legend at 0x7ab0c2f78250>"
            ]
          },
          "metadata": {},
          "execution_count": 115
        },
        {
          "output_type": "display_data",
          "data": {
            "text/plain": [
              "<Figure size 1200x800 with 1 Axes>"
            ],
            "image/png": "[encoded data removed]"
          },
          "metadata": {}
        }
      ]
    },
    {
      "cell_type": "code",
      "source": [
        "# Action별 시각화(인도 제외)\n",
        "group_counts = df_else.groupby(['Action', 'Group']).size().unstack(fill_value=0)\n",
        "group_percentages = group_counts.div(group_counts.sum(axis=1), axis=0) * 100\n",
        "\n",
        "# 시각화\n",
        "plt.figure(figsize=(12, 8))\n",
        "\n",
        "# 비율 그래프 그리기\n",
        "bars = group_percentages.plot(kind='bar', stacked=True, alpha=0.8, ax=plt.subplot(212))\n",
        "plt.title('Group Percentages by Action (Except India)')\n",
        "plt.xlabel('Action')\n",
        "plt.ylabel('Percentage')\n",
        "plt.xticks(rotation=0)\n",
        "plt.legend(title='Group')"
      ],
      "metadata": {
        "colab": {
          "base_uri": "https://localhost:8080/",
          "height": 400
        },
        "id": "B8dCIV5CiMy4",
        "outputId": "f095d471-8a19-4fb8-844b-cdeb8284ced8"
      },
      "execution_count": null,
      "outputs": [
        {
          "output_type": "execute_result",
          "data": {
            "text/plain": [
              "<matplotlib.legend.Legend at 0x7ab0c18b2da0>"
            ]
          },
          "metadata": {},
          "execution_count": 121
        },
        {
          "output_type": "display_data",
          "data": {
            "text/plain": [
              "<Figure size 1200x800 with 1 Axes>"
            ],
            "image/png": "[encoded data removed]"
          },
          "metadata": {}
        }
      ]
    },
    {
      "cell_type": "code",
      "source": [
        "# Section별 시각화(인도 포함)\n",
        "group_counts = df.groupby(['Section', 'Group']).size().unstack(fill_value=0)\n",
        "group_percentages = group_counts.div(group_counts.sum(axis=1), axis=0) * 100\n",
        "\n",
        "# 시각화\n",
        "plt.figure(figsize=(12, 8))\n",
        "\n",
        "# 비율 그래프 그리기\n",
        "bars = group_percentages.plot(kind='bar', stacked=True, alpha=0.8, ax=plt.subplot(212))\n",
        "plt.title('Group Percentages by Section')\n",
        "plt.xlabel('Section')\n",
        "plt.ylabel('Percentage')\n",
        "plt.xticks(rotation=0)\n",
        "plt.legend(title='Group')"
      ],
      "metadata": {
        "colab": {
          "base_uri": "https://localhost:8080/",
          "height": 400
        },
        "id": "YxD5YkwfWUZj",
        "outputId": "6fcac45d-f909-41c8-e417-f0ab72496f0b"
      },
      "execution_count": null,
      "outputs": [
        {
          "output_type": "execute_result",
          "data": {
            "text/plain": [
              "<matplotlib.legend.Legend at 0x7ab0c196f7f0>"
            ]
          },
          "metadata": {},
          "execution_count": 117
        },
        {
          "output_type": "display_data",
          "data": {
            "text/plain": [
              "<Figure size 1200x800 with 1 Axes>"
            ],
            "image/png": "[encoded data removed]"
          },
          "metadata": {}
        }
      ]
    },
    {
      "cell_type": "code",
      "source": [
        "# Section별 시각화(인도 제외)\n",
        "group_counts = df_else.groupby(['Section', 'Group']).size().unstack(fill_value=0)\n",
        "group_percentages = group_counts.div(group_counts.sum(axis=1), axis=0) * 100\n",
        "\n",
        "# 시각화\n",
        "plt.figure(figsize=(12, 8))\n",
        "\n",
        "# 비율 그래프 그리기\n",
        "bars = group_percentages.plot(kind='bar', stacked=True, alpha=0.8, ax=plt.subplot(212))\n",
        "plt.title('Group Percentages by Section (Except India)')\n",
        "plt.xlabel('Section')\n",
        "plt.ylabel('Percentage')\n",
        "plt.xticks(rotation=0)\n",
        "plt.legend(title='Group')"
      ],
      "metadata": {
        "colab": {
          "base_uri": "https://localhost:8080/",
          "height": 400
        },
        "id": "zqgWMgL9WUXE",
        "outputId": "e28551ca-9f0a-41c4-bfb1-d5b2cf756a8b"
      },
      "execution_count": null,
      "outputs": [
        {
          "output_type": "execute_result",
          "data": {
            "text/plain": [
              "<matplotlib.legend.Legend at 0x7ab0c16fa260>"
            ]
          },
          "metadata": {},
          "execution_count": 123
        },
        {
          "output_type": "display_data",
          "data": {
            "text/plain": [
              "<Figure size 1200x800 with 1 Axes>"
            ],
            "image/png": "[encoded data removed]"
          },
          "metadata": {}
        }
      ]
    },
    {
      "cell_type": "markdown",
      "source": [
        "- title_results : A,B그룹(검색 기능 이용도 높은 그룹)으로 이루어져있음\n",
        "- prequery_result : C,D그룹(자동 생성 기능 이용도 높은 그룹)으로 이루어져있음\n",
        "- suggestion_results은 모두 IN(인도) 데이터"
      ],
      "metadata": {
        "id": "B9WQJyLgiYT_"
      }
    },
    {
      "cell_type": "markdown",
      "source": [
        "## 주요 검색 키워드 분석\n",
        "---\n",
        "- 텍스트 데이터 세부 분석\n",
        "    - 전체 키워드 추출\n",
        "    - 인도 제외 키워드 추출"
      ],
      "metadata": {
        "id": "RH1dw1sHOwUX"
      }
    },
    {
      "cell_type": "code",
      "source": [
        "from sklearn.feature_extraction.text import TfidfVectorizer\n",
        "from sklearn.metrics.pairwise import cosine_similarity\n",
        "\n",
        "#결측치 제거\n",
        "df_kw = df.dropna(subset=['Query Typed']).reset_index(drop=True)\n",
        "\n",
        "# TF-IDF 변환\n",
        "tfidf_vectorizer = TfidfVectorizer()\n",
        "tfidf_matrix = tfidf_vectorizer.fit_transform(df_kw['Query Typed'])\n",
        "\n",
        "# TF-IDF 행렬에서 가장 높은 값을 가진 단어 추출\n",
        "feature_names = tfidf_vectorizer.get_feature_names_out()\n",
        "max_tfidf = tfidf_matrix.max(axis=0).toarray().flatten()\n",
        "\n",
        "# 가장 높은 TF-IDF 값을 가진 단어 인덱스 추출 및 단어 출력\n",
        "top_keywords_indices = max_tfidf.argsort()[-10:][::-1]\n",
        "top_keywords = [feature_names[idx] for idx in top_keywords_indices]\n",
        "\n",
        "print(\"주요 검색 키워드:\", top_keywords,'\\n')\n",
        "\n",
        "########################################################################################################################\n",
        "\n",
        "# 인도 제외\n",
        "df_else = df_kw.drop(df_kw[df_kw['Country Iso Code']== 'IN'].index)\n",
        "\n",
        "# TF-IDF 변환\n",
        "tfidf_vectorizer = TfidfVectorizer()\n",
        "tfidf_matrix = tfidf_vectorizer.fit_transform(df_else['Query Typed'])\n",
        "\n",
        "# TF-IDF 행렬에서 가장 높은 값을 가진 단어 추출\n",
        "feature_names = tfidf_vectorizer.get_feature_names_out()\n",
        "max_tfidf = tfidf_matrix.max(axis=0).toarray().flatten()\n",
        "\n",
        "# 가장 높은 TF-IDF 값을 가진 단어 인덱스 추출 및 단어 출력\n",
        "top_keywords_indices = max_tfidf.argsort()[-10:][::-1]\n",
        "top_keywords = [feature_names[idx] for idx in top_keywords_indices]\n",
        "\n",
        "print(\"주요 검색 키워드(인도 제외):\", top_keywords)"
      ],
      "metadata": {
        "colab": {
          "base_uri": "https://localhost:8080/"
        },
        "id": "Bnj738SKpmUi",
        "outputId": "ee32fe92-3243-4984-a9f1-45f44b84dbc0"
      },
      "execution_count": null,
      "outputs": [
        {
          "output_type": "stream",
          "name": "stdout",
          "text": [
            "주요 검색 키워드: ['wr', 'indiana', 'haunt', 'hero', 'high', 'hindi', 'ho', 'horror', 'hotel', 'indi'] \n",
            "\n",
            "주요 검색 키워드(인도 제외): ['thr', 'dasvi', 'izom', 'it', 'ho', 'hero', 'fri', 'fr', 'fleab', 'flash']\n"
          ]
        }
      ]
    }
  ]
}